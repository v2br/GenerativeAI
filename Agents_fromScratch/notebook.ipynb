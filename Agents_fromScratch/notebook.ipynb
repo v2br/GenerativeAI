{
 "cells": [
  {
   "cell_type": "markdown",
   "id": "8214420c-1936-472c-930e-1f4c9efb3809",
   "metadata": {},
   "source": [
    "# GenAI with Python: Agents from scratch"
   ]
  },
  {
   "cell_type": "markdown",
   "id": "53219017-c57b-4ae8-8442-b89f95ff8bdc",
   "metadata": {},
   "source": [
    "###### [Article: TowardsDataScience](https://towardsdatascience.com/genai-with-python-build-agents-from-scratch-complete-tutorial-4fc1e084e2ec)"
   ]
  },
  {
   "cell_type": "markdown",
   "id": "fbd5a8e7-d0ca-4c6c-88b4-1c1e27591b84",
   "metadata": {},
   "source": [
    "### 0 - Setup"
   ]
  },
  {
   "cell_type": "code",
   "execution_count": 1,
   "id": "10f53cd6-8254-40ff-aca4-ca18a1bc7a8a",
   "metadata": {},
   "outputs": [],
   "source": [
    "#pip install langchain --> 0.2.14\n",
    "#pip install langgraph --> 0.2.19\n",
    "#pip install ollama --> 0.3.1\n",
    "#pip install duckduckgo-search --> 6.2.12\n",
    "#pip install wikipedia --> 1.4.0"
   ]
  },
  {
   "cell_type": "code",
   "execution_count": 46,
   "id": "ac37da15-9f5f-46b7-99cb-7bb4301ef088",
   "metadata": {},
   "outputs": [
    {
     "data": {
      "text/plain": [
       "ChatResponse(model='phi3:mini', created_at='2025-05-08T23:22:19.176064Z', done=True, done_reason='stop', total_duration=3689467750, load_duration=14984083, prompt_eval_count=52, prompt_eval_duration=316810500, eval_count=168, eval_duration=3355150208, message=Message(role='assistant', content='- Germany: Increased its target from 55% to 65%. New goal is now -75% compared to 1990 levels.\\n- Canada: Updated its aim for net zero emissions, increasing it by five years to 2030 and included the use of carbon capture technology in certain sectors. The new target becomes a reduction of at least 40-45% below 2decade-average 2003 - 2019 levels.\\n- Italy: Increased its renewable energy goal from 33% to 38%. New carbon emission targets not officially announced yet, but aim for a reduction of at least 33% by 2030 based on 2005 level.', images=None, tool_calls=None))"
      ]
     },
     "execution_count": 46,
     "metadata": {},
     "output_type": "execute_result"
    }
   ],
   "source": [
    "import ollama\n",
    "\n",
    "llm = \"phi3:mini\"\n",
    "q = '''Did any G7 countries revise their 2030 carbon emission targets in 2024 ? If yes, which ones, and what are the new goals?. make a short answer using bullet points'''\n",
    "\n",
    "res = ollama.chat(model=llm, \n",
    "                  messages=[{\"role\":\"system\", \"content\":\"\"},\n",
    "                            {\"role\":\"user\", \"content\":q}])\n",
    "res"
   ]
  },
  {
   "cell_type": "markdown",
   "id": "65c648ef-bed3-4179-8dcb-d6678abc0faa",
   "metadata": {},
   "source": [
    "### 1 - Tools"
   ]
  },
  {
   "cell_type": "code",
   "execution_count": 47,
   "id": "f6aa2dbe-0aa0-4d57-964b-b8c7aac331e0",
   "metadata": {},
   "outputs": [
    {
     "name": "stdout",
     "output_type": "stream",
     "text": [
      "Did any G7 countries revise their 2030 carbon emission targets in 2024 ? If yes, which ones, and what are the new goals?. make a short answer using bullet points\n",
      "Sufficient goals, like those associated with limiting global warming to a maximum of 2° Celsius, are missed by many and insufficient goals, like limiting it to 3° Celsius, continue to exist for ... This infographic shows the greenhouse gas emissions reductions targets of all countries around the globe by their target year and level of commitment with data from Net Zero Tracker. Key Takeaways. Since 2021, an additional 40 countries have established intermediate climate goals for 2030. Visualized: Emission Reduction Targets by Country in 2024. Since 2021, another 40 countries have established climate goals for 2030. However, the path to net zero remains uneven. With average national warming already 1.81°C above pre-industrial levels, the international pressure for countries to cut emissions faster and deeper is mounting. To guide efforts in ensuring that countries are on track to achieve the climate goal of the Paris Agreement, we annually evaluate the progress of 25 major emitters, which collectively cover more than 80% of global emissions, towards their climate change mitigation targets. In our 2024 update report, we modelled greenhouse gas (GHG) emissions ... Most G7 countries argue that this new gas power fleet will be used at a much lower capacity factor as a back-up generation source to balance variable renewables. Some, for example Germany, incentivize new gas power capacity build-out under the label of 'hydrogen readiness', assuming that these facilities will run on low-carbon hydrogen ...\n"
     ]
    }
   ],
   "source": [
    "from langchain_core.tools import tool\n",
    "from langchain_community.tools import DuckDuckGoSearchRun\n",
    "\n",
    "@tool(\"tool_browser\")\n",
    "def tool_browser(q:str) -> str:\n",
    "    \"\"\"Search on DuckDuckGo browser by passing the input `q`\"\"\"\n",
    "    return DuckDuckGoSearchRun().run(q)\n",
    "\n",
    "# test\n",
    "print (q)\n",
    "print( tool_browser(q) )"
   ]
  },
  {
   "cell_type": "code",
   "execution_count": 48,
   "id": "95293ae9-3422-4f48-af4c-6eb4be196416",
   "metadata": {},
   "outputs": [
    {
     "name": "stdout",
     "output_type": "stream",
     "text": [
      "yo\n"
     ]
    }
   ],
   "source": [
    "@tool(\"final_answer\")\n",
    "def final_answer(text:str) -> str:\n",
    "    \"\"\"Returns a natural language response to the user by passing the input `text`. \n",
    "    You should provide as much context as possible and specify the source of the information.\n",
    "    \"\"\"\n",
    "    return text\n",
    "\n",
    "# test\n",
    "print( final_answer(\"yo\") )"
   ]
  },
  {
   "cell_type": "code",
   "execution_count": 49,
   "id": "79657a90-ef3c-42db-a067-6829018f3f7b",
   "metadata": {},
   "outputs": [],
   "source": [
    "dic_tools = {\"tool_browser\":tool_browser, \n",
    "             \"final_answer\":final_answer}"
   ]
  },
  {
   "cell_type": "markdown",
   "id": "f182ae77-bed0-4262-b559-3f9c5a4de070",
   "metadata": {},
   "source": [
    "### 2 - Decision Making"
   ]
  },
  {
   "cell_type": "code",
   "execution_count": 50,
   "id": "952d7dad-b331-4e74-8f2d-6301d0d39f3a",
   "metadata": {},
   "outputs": [],
   "source": [
    "prompt = \"\"\"\n",
    "You know everything, you must answer every question from the user, you can use the list of tools provided to you.\n",
    "Your goal is to provide the user with the best possible answer, including key information about the sources and tools used.\n",
    "\n",
    "Note, when using a tool, you provide the tool name and the arguments to use in JSON format. \n",
    "For each call, you MUST ONLY use one tool AND the response format must ALWAYS be in the pattern:\n",
    "```json\n",
    "{\"name\":\"<tool_name>\", \"parameters\": {\"<tool_input_key>\":<tool_input_value>}}\n",
    "```\n",
    "Remember, do NOT use any tool with the same query more than once.\n",
    "Remember, if the user doesn't ask a specific question, you MUST use the `final_answer` tool directly.\n",
    "\n",
    "Every time the user asks a question, you take note in the memory.\n",
    "Every time you find some information related to the user's question, you take note in the memory.\n",
    "\n",
    "You should aim to collect information from a diverse range of sources before providing the answer to the user. \n",
    "Once you have collected plenty of information to answer the user's question use the `final_answer` tool.\n",
    "\"\"\""
   ]
  },
  {
   "cell_type": "code",
   "execution_count": 51,
   "id": "52813d8f-2579-4925-98df-55bfa5df1d53",
   "metadata": {},
   "outputs": [
    {
     "name": "stdout",
     "output_type": "stream",
     "text": [
      "You can use the following tools:\n",
      "1. `tool_browser`: Search on DuckDuckGo browser by passing the input `q`\n",
      "2. `final_answer`: Returns a natural language response to the user by passing the input `text`. \n",
      "You should provide as much context as possible and specify the source of the information.\n"
     ]
    }
   ],
   "source": [
    "str_tools = \"\\n\".join([str(n+1)+\". `\"+str(v.name)+\"`: \"+str(v.description) for n,v in enumerate(dic_tools.values())])\n",
    "\n",
    "prompt_tools = f\"You can use the following tools:\\n{str_tools}\"\n",
    "print(prompt_tools)"
   ]
  },
  {
   "cell_type": "code",
   "execution_count": 52,
   "id": "c76fbe59-b967-458f-b8f3-a99b54bf4a0a",
   "metadata": {},
   "outputs": [
    {
     "name": "stdout",
     "output_type": "stream",
     "text": [
      "ChatResponse(model='phi3:mini', created_at='2025-05-08T23:22:34.156289Z', done=True, done_reason='stop', total_duration=1709295541, load_duration=10963708, prompt_eval_count=353, prompt_eval_duration=1115305709, eval_count=28, eval_duration=580281416, message=Message(role='assistant', content='{\"name\": \"tool_browser\", \"parameters\": {\"q\": \"How do people commonly greet each other in English?\"}}', images=None, tool_calls=None))\n"
     ]
    }
   ],
   "source": [
    "# LLM deciding what tool to use\n",
    "from pprint import pprint\n",
    "\n",
    "llm_res = ollama.chat(\n",
    "    model=llm,\n",
    "    messages=[{\"role\":\"system\", \"content\":prompt+\"\\n\"+prompt_tools},\n",
    "              {\"role\":\"user\", \"content\":\"hello\"}\n",
    "             ], format=\"json\")\n",
    "\n",
    "pprint(llm_res)"
   ]
  },
  {
   "cell_type": "code",
   "execution_count": 53,
   "id": "9e61195b-cd68-4e22-b335-3a88477c8f6e",
   "metadata": {},
   "outputs": [
    {
     "data": {
      "text/plain": [
       "'{\"name\":\"tool_browser\", \"parameters\": {\"q\":\"G7 countries\\' revised 2030 carbon emission targets for year 2024\"}}'"
      ]
     },
     "execution_count": 53,
     "metadata": {},
     "output_type": "execute_result"
    }
   ],
   "source": [
    "# LLM deciding what tool to use (output format = json)\n",
    "llm_res = ollama.chat(\n",
    "    model=llm,\n",
    "    messages=[{\"role\":\"system\", \"content\":prompt+\"\\n\"+prompt_tools},\n",
    "              {\"role\":\"user\", \"content\":q}\n",
    "             ], format=\"json\")\n",
    "\n",
    "llm_res[\"message\"][\"content\"]"
   ]
  },
  {
   "cell_type": "code",
   "execution_count": 54,
   "id": "b97d4e7f-4d9a-439c-a508-9c40cc44a3f3",
   "metadata": {},
   "outputs": [
    {
     "data": {
      "text/plain": [
       "\"G7 countries' revised 2030 carbon emission targets for year 2024\""
      ]
     },
     "execution_count": 54,
     "metadata": {},
     "output_type": "execute_result"
    }
   ],
   "source": [
    "import json\n",
    "\n",
    "tool_input = json.loads(llm_res[\"message\"][\"content\"])[\"parameters\"][\"q\"]\n",
    "tool_input"
   ]
  },
  {
   "cell_type": "code",
   "execution_count": 55,
   "id": "b37eb027-6fe8-448c-8094-570679c89fa8",
   "metadata": {},
   "outputs": [
    {
     "name": "stdout",
     "output_type": "stream",
     "text": [
      "tool Browser output:\n",
      " The 2024 G7 ministerial meetings on climate, energy and the environment concluded with the most ambitious target in history: ending unabated coal power use by the early 2030s. Visualized: Emission Reduction Targets by Country in 2024 Since 2021, another 40 countries have established climate goals for 2030. However, the path to net zero remains uneven. With average national warming already 1.81°C above pre-industrial levels, the international pressure for countries to cut emissions faster and deeper is mounting. Despite the positive aspects of the G7's agreement, some experts have criticized the 2035 deadline as too late to meet the 1.5°C target. Climate Analytics, a leading think tank, argues that coal use in G7 nations should end by 2030, with natural gas use following by 2035, to prevent dangerous climate impacts. In our 2024 update report, we modelled greenhouse gas (GHG) emissions towards 2030 based on countries' policies as of July 2024 and compared these emissions to countries' current NDC targets to evaluate whether countries are on track to meet them. On June 14, 2024, G7 leaders released a communiqué summarizing the outcomes of the G7 Summit held in Apulia, Italy, from June 13-15, 2024. Notable in this year's communiqué was, for the first time in a top-level G7 agreement, the setting of a coal phase-out target with a commitment from leaders to phase out unabated coal-fired power ...\n",
      "----------\n",
      "\n",
      "LLM output:\n",
      " * Yes: The United States revised its target from an initial goal of net-zero emissions by 2050 to achieving half that reduction (37% cut below 2005 levels) by 2030.  \n",
      "* No revisions reported for the other G7 countries in the provided information\n"
     ]
    }
   ],
   "source": [
    "# LLM with context\n",
    "context = tool_browser(tool_input)\n",
    "print(\"tool Browser output:\\n\", context)\n",
    "print(\"----------\") \n",
    "llm_output = ollama.chat(\n",
    "    model=llm,\n",
    "    messages=[{\"role\":\"system\", \"content\":\"Give the most accurate answer using the folling information:\\n\"+context},\n",
    "              {\"role\":\"user\", \"content\":q}\n",
    "             ])\n",
    "\n",
    "print(\"\\nLLM output:\\n\", llm_output[\"message\"][\"content\"])"
   ]
  },
  {
   "cell_type": "markdown",
   "id": "abc0ff2b-28cf-43f2-beda-cd620c4f534a",
   "metadata": {},
   "source": [
    "### 3 - Agent Structure"
   ]
  },
  {
   "cell_type": "markdown",
   "id": "46a2a13d-72eb-4fcb-a925-2326aed74869",
   "metadata": {},
   "source": [
    "##### Data Structure"
   ]
  },
  {
   "cell_type": "code",
   "execution_count": 56,
   "id": "fe47f093-1152-46a9-98c1-6bf60a725603",
   "metadata": {},
   "outputs": [
    {
     "name": "stdout",
     "output_type": "stream",
     "text": [
      "from\n",
      " {\"name\":\"tool_browser\", \"parameters\": {\"q\":\"G7 countries' revised 2030 carbon emission targets for year 2024\"}} \n",
      "to\n"
     ]
    },
    {
     "data": {
      "text/plain": [
       "AgentRes(tool_name='tool_browser', tool_input={'q': \"G7 countries' revised 2030 carbon emission targets for year 2024\"}, tool_output=None)"
      ]
     },
     "execution_count": 56,
     "metadata": {},
     "output_type": "execute_result"
    }
   ],
   "source": [
    "from pydantic import BaseModel #this is the standard class\n",
    "\n",
    "# Taking for example the last LLM response, I want this structure:\n",
    "# {tool_name: 'tool_browser', \n",
    "#  tool_input: {'q':'September 9 2024 deaths'}, \n",
    "#  tool_output: str( tool_browser({'q':'September 9 2024 deaths'})) }\n",
    "\n",
    "class AgentRes(BaseModel):\n",
    "    tool_name: str  #<--must be a string = 'tool_browser'\n",
    "    tool_input: dict #<--must be a dictionary = {'q':'September 9 2024 deaths'}\n",
    "    tool_output: str | None = None #can be a string or None, default = None\n",
    "    \n",
    "    @classmethod\n",
    "    def from_llm(cls, res:dict): #<--return the class itself\n",
    "        try:\n",
    "            out = json.loads(res[\"message\"][\"content\"])\n",
    "            return cls(tool_name=out[\"name\"], tool_input=out[\"parameters\"])\n",
    "        except Exception as e:\n",
    "            print(f\"Error from Ollama:\\n{res}\\n\")\n",
    "            raise e\n",
    "\n",
    "# test\n",
    "agent_res = AgentRes.from_llm(llm_res)\n",
    "print(\"from\\n\", llm_res[\"message\"][\"content\"], \"\\nto\")\n",
    "agent_res"
   ]
  },
  {
   "cell_type": "code",
   "execution_count": 57,
   "id": "cb5339f4-4a1e-454b-b764-a2e0346e3ef4",
   "metadata": {},
   "outputs": [
    {
     "data": {
      "text/plain": [
       "AgentRes(tool_name='tool_browser', tool_input={'q': 'September 9 2020 deaths'}, tool_output='The following is a list of notable deaths in September 2020. Entries for each day are listed alphabetically by surname. A typical entry lists information in the following sequence: Name, age, country of citizenship at birth, subsequent country of citizenship (if applicable), reason for notability, cause of death (if known), and reference. The following is a list of deaths that should be noted in September 2020. For deaths that should be noted before the month that the world is in, please see \"Months\". Individuals listed must have notability. Names under each date are noted in the order of the alphabet by last name or pseudonym. Deaths of non-humans are noted here also if it is worth noting. Each listing of a death must have a ... Browse El Cajon local obituaries on Legacy.com. Find service information, send flowers, and leave memories and thoughts in the Guestbook for your loved one. The death toll in the country reaches to 65,241. (Reuters) COVID-19 pandemic in Europe COVID-19 pandemic in Greece Due to some recent spikes in cases, authorities delay the schools\\' reopening to September 14 in order to allow time for vacationers to return to big cities to limit the movement of asymptomatic people. This article contains the number of cases of coronavirus disease 2019 (COVID-19) reported by each country and territory to the World Health Organization in September 2020 and published in the latter\\'s daily \\'situation reports\\'. [1] For other months see COVID-19 pandemic cases. There is also a column there listing the date of the first case for each country. For more international statistics in ...')"
      ]
     },
     "execution_count": 57,
     "metadata": {},
     "output_type": "execute_result"
    }
   ],
   "source": [
    "# test the tool output\n",
    "AgentRes(tool_name=\"tool_browser\", \n",
    "         tool_input={'q':'September 9 2024 births'}, \n",
    "         tool_output=str( tool_browser({'q':'September 9 2024 births'}))\n",
    "        )\n",
    "AgentRes(tool_name=\"tool_browser\", \n",
    "         tool_input={'q':'September 9 2020 deaths'}, \n",
    "         tool_output=str( tool_browser({'q':'September 92020 deaths'}))\n",
    "        )"
   ]
  },
  {
   "cell_type": "markdown",
   "id": "f89d37c6-a49f-47e4-9e83-89e0a1e7b111",
   "metadata": {},
   "source": [
    "##### Memory System"
   ]
  },
  {
   "cell_type": "code",
   "execution_count": 58,
   "id": "05a313a5-eab2-4bfc-a96d-7fd0cd0cd870",
   "metadata": {},
   "outputs": [
    {
     "data": {
      "text/plain": [
       "[]"
      ]
     },
     "execution_count": 58,
     "metadata": {},
     "output_type": "execute_result"
    }
   ],
   "source": [
    "'''\n",
    "Messages in Memory will have this structure:\n",
    "[{'role':'assistant', 'content':'{\"name\":\"final_answer\", \"parameters\":{\"text\":\"How can I assist you today?\"}}'},\n",
    " {'role':'user', 'content':None}]\n",
    "'''\n",
    "\n",
    "def save_memory(lst_res:list[AgentRes], user_q:str) -> list:\n",
    "    ## create\n",
    "    memory = []\n",
    "    for res in [res for res in lst_res if res.tool_output is not None]:\n",
    "        memory.extend([\n",
    "            ### assistant message\n",
    "            {\"role\":\"assistant\", \"content\":json.dumps({\"name\":res.tool_name, \"parameters\":res.tool_input})},\n",
    "            ### user message\n",
    "            {\"role\":\"user\", \"content\":res.tool_output}\n",
    "        ])\n",
    "    \n",
    "    ## add a reminder of the original goal\n",
    "    if memory:\n",
    "        memory += [{\"role\":\"user\", \"content\":(f'''\n",
    "                This is just a reminder that my original query was `{user_q}`.\n",
    "                Only answer to the original query, and nothing else, but use the information I gave you. \n",
    "                Provide as much information as possible when you use the `final_answer` tool.\n",
    "                ''')}]\n",
    "    return memory\n",
    "\n",
    "# test\n",
    "save_memory(lst_res=[agent_res], user_q=q)"
   ]
  },
  {
   "cell_type": "markdown",
   "id": "1d196e4d-79db-4183-9c5a-224462aaf757",
   "metadata": {},
   "source": [
    "Test memory !!! not sure if it works "
   ]
  },
  {
   "cell_type": "code",
   "execution_count": 59,
   "id": "8587b83a-c1aa-4b78-a23a-ba1db31571b6",
   "metadata": {},
   "outputs": [],
   "source": [
    "chat_history = [{\"role\": \"user\", \"content\": \"hi there, how are you?\"},\n",
    "                {\"role\": \"assistant\", \"content\": \"I'm good, thanks!\"},\n",
    "                {\"role\": \"user\", \"content\": \"I have a question\"},\n",
    "                {\"role\": \"assistant\", \"content\": \"tell me\"}]"
   ]
  },
  {
   "cell_type": "markdown",
   "id": "22fc2702-61d5-4ed5-b958-8d0c29645c18",
   "metadata": {},
   "source": [
    "##### Run the Agent"
   ]
  },
  {
   "cell_type": "code",
   "execution_count": 60,
   "id": "623dcfac-fde3-41a2-bc74-9aa47d1d1b51",
   "metadata": {},
   "outputs": [
    {
     "name": "stdout",
     "output_type": "stream",
     "text": [
      "\n",
      "agent_res: tool_name='tool_browser' tool_input={'q': 'Which G7 countries revised their carbon emission targets for 2030 in 2024, and what are the new goals?'} tool_output=None\n"
     ]
    }
   ],
   "source": [
    "def run_agent(prompt:str, dic_tools:dict, user_q:str, chat_history:list[dict], lst_res:list[AgentRes]) -> AgentRes:\n",
    "    ## start memory\n",
    "    memory = save_memory(lst_res=lst_res, user_q=user_q)\n",
    "    \n",
    "    ## track used tools\n",
    "    if memory:\n",
    "        tools_used = [res.tool_name for res in lst_res]\n",
    "        if len(tools_used) >= len(dic_tools.keys()):\n",
    "            memory[-1][\"content\"] = \"You must now use the `final_answer` tool.\"\n",
    "\n",
    "    ## prompt tools\n",
    "    str_tools = \"\\n\".join([str(n+1)+\". `\"+str(v.name)+\"`: \"+str(v.description) for n,v in enumerate(dic_tools.values())])\n",
    "    prompt_tools = f\"You can use the following tools:\\n{str_tools}\"\n",
    "        \n",
    "    ## messages\n",
    "    messages = [{\"role\":\"system\", \"content\":prompt+\"\\n\"+prompt_tools},\n",
    "                *chat_history,\n",
    "                {\"role\":\"user\", \"content\":user_q},\n",
    "                *memory]\n",
    "    #pprint(messages) #<--print to see prompt + tools + chat_history\n",
    "    \n",
    "    ## output\n",
    "    llm_res = ollama.chat(model=llm, messages=messages, format=\"json\")\n",
    "    return AgentRes.from_llm(llm_res)\n",
    "\n",
    "# test\n",
    "agent_res = run_agent(prompt=prompt, dic_tools=dic_tools, user_q=q, chat_history=chat_history, lst_res=[])\n",
    "print(\"\\nagent_res:\", agent_res)"
   ]
  },
  {
   "cell_type": "markdown",
   "id": "d9ab77b7-8380-4b4c-9914-c34c0404798f",
   "metadata": {},
   "source": [
    "### 4 - Graph Workflow"
   ]
  },
  {
   "cell_type": "markdown",
   "id": "79e9aad9-b664-4cc1-8085-26364bf041a1",
   "metadata": {},
   "source": [
    "##### State"
   ]
  },
  {
   "cell_type": "code",
   "execution_count": 61,
   "id": "fd64eaa3-6bc7-41e0-86a3-6061ba24b468",
   "metadata": {},
   "outputs": [
    {
     "data": {
      "text/plain": [
       "{'user_q': 'Did any G7 countries revise their 2030 carbon emission targets in 2024 ? If yes, which ones, and what are the new goals?. make a short answer using bullet points',\n",
       " 'chat_history': [{'role': 'user', 'content': 'hi there, how are you?'},\n",
       "  {'role': 'assistant', 'content': \"I'm good, thanks!\"},\n",
       "  {'role': 'user', 'content': 'I have a question'},\n",
       "  {'role': 'assistant', 'content': 'tell me'}],\n",
       " 'lst_res': [AgentRes(tool_name='tool_browser', tool_input={'q': 'Which G7 countries revised their carbon emission targets for 2030 in 2024, and what are the new goals?'}, tool_output=None)],\n",
       " 'output': {}}"
      ]
     },
     "execution_count": 61,
     "metadata": {},
     "output_type": "execute_result"
    }
   ],
   "source": [
    "import typing\n",
    "\n",
    "class State(typing.TypedDict):\n",
    "    user_q: str\n",
    "    chat_history: list \n",
    "    lst_res: list[AgentRes]\n",
    "    output: dict\n",
    "\n",
    "# test\n",
    "state = State({\"user_q\":q, \"chat_history\":chat_history, \"lst_res\":[agent_res], \"output\":{}})\n",
    "state"
   ]
  },
  {
   "cell_type": "markdown",
   "id": "8d0581b8-ca39-4e08-b279-f69b9fdedb2c",
   "metadata": {},
   "source": [
    "##### Nodes"
   ]
  },
  {
   "cell_type": "code",
   "execution_count": 62,
   "id": "982a35b4-2523-44b7-99e8-8537a19ce0f5",
   "metadata": {},
   "outputs": [
    {
     "name": "stdout",
     "output_type": "stream",
     "text": [
      "--- node_agent ---\n",
      "tool_name='tool_browser' tool_input={'q': 'G7 nations revision of 2030 carbon emissions target for year 2024.'} tool_output=None\n"
     ]
    },
    {
     "data": {
      "text/plain": [
       "{'lst_res': [AgentRes(tool_name='tool_browser', tool_input={'q': 'G7 nations revision of 2030 carbon emissions target for year 2024.'}, tool_output=None)]}"
      ]
     },
     "execution_count": 62,
     "metadata": {},
     "output_type": "execute_result"
    }
   ],
   "source": [
    "# Agent\n",
    "def node_agent(state):\n",
    "    print(\"--- node_agent ---\")\n",
    "    agent_res = run_agent(prompt=prompt, \n",
    "                          dic_tools={k:v for k,v in dic_tools.items() if k in [\"tool_browser\",\"final_answer\"]},\n",
    "                          user_q=state[\"user_q\"], \n",
    "                          chat_history=state[\"chat_history\"], \n",
    "                          lst_res=state[\"lst_res\"])\n",
    "    print(agent_res)\n",
    "    return {\"lst_res\":[agent_res]} #<--must return a the list of agent_res\n",
    "\n",
    "# test\n",
    "node_agent(state)"
   ]
  },
  {
   "cell_type": "code",
   "execution_count": 63,
   "id": "7d66fa3e-7de0-4ea7-90e7-26665cb9b3df",
   "metadata": {},
   "outputs": [
    {
     "name": "stdout",
     "output_type": "stream",
     "text": [
      "--- node_tool ---\n",
      "tool_browser(input={'q': 'Which G7 countries revised their carbon emission targets for 2030 in 2024, and what are the new goals?'})\n"
     ]
    },
    {
     "data": {
      "text/plain": [
       "{'lst_res': [AgentRes(tool_name='tool_browser', tool_input={'q': 'Which G7 countries revised their carbon emission targets for 2030 in 2024, and what are the new goals?'}, tool_output=\"To guide efforts in ensuring that countries are on track to achieve the climate goal of the Paris Agreement, we annually evaluate the progress of 25 major emitters, which collectively cover more than 80% of global emissions, towards their climate change mitigation targets. In our 2024 update report, we modelled greenhouse gas (GHG) emissions ... This infographic shows the greenhouse gas emissions targets of all countries and their target years with data from Net Zero Tracker. ... Emission Reduction Targets by Country in 2024. Since 2021, another 40 countries have established climate goals for 2030. ... Emissions reduction target: 2030: In law: Dominica: Carbon neutral(ity) 2030: Not ... The 2024 G7 ministerial meetings on climate, energy and the environment concluded with the most ambitious target in history: ending unabated coal power use by the early 2030s. While economics and market realities can significantly accelerate the process, the group also left the door open for countries to stretch that deadline based on their ... Carbon Markets category EU countries back softer car CO2 emissions targets 3:47 PM UTC Climate & Energy category EU warns Romania to remove gas price cap or face legal action 3:09 PM UTC Despite the positive aspects of the G7's agreement, some experts have criticized the 2035 deadline as too late to meet the 1.5°C target. Climate Analytics, a leading think tank, argues that coal use in G7 nations should end by 2030, with natural gas use following by 2035, to prevent dangerous climate impacts.\")]}"
      ]
     },
     "execution_count": 63,
     "metadata": {},
     "output_type": "execute_result"
    }
   ],
   "source": [
    "# Tools\n",
    "def node_tool(state):\n",
    "    print(\"--- node_tool ---\")\n",
    "    res = state[\"lst_res\"][-1]\n",
    "    print(f\"{res.tool_name}(input={res.tool_input})\")\n",
    "    \n",
    "    agent_res = AgentRes(tool_name=res.tool_name, \n",
    "                         tool_input=res.tool_input, \n",
    "                         tool_output=str(dic_tools[res.tool_name](res.tool_input)) )\n",
    "    \n",
    "    return {\"output\":agent_res} if res.tool_name == \"final_answer\" else {\"lst_res\":[agent_res]}\n",
    "\n",
    "# test\n",
    "node_tool(state)"
   ]
  },
  {
   "cell_type": "markdown",
   "id": "f0b55681-db5b-4650-955a-875d1c7da163",
   "metadata": {},
   "source": [
    "##### Edges"
   ]
  },
  {
   "cell_type": "code",
   "execution_count": 64,
   "id": "fe58b028-e548-430c-a009-608b144aae72",
   "metadata": {},
   "outputs": [
    {
     "name": "stdout",
     "output_type": "stream",
     "text": [
      "--- conditional_edges ---\n",
      "next_node: tool_browser\n"
     ]
    },
    {
     "data": {
      "text/plain": [
       "'tool_browser'"
      ]
     },
     "execution_count": 64,
     "metadata": {},
     "output_type": "execute_result"
    }
   ],
   "source": [
    "def conditional_edges(state):\n",
    "    print(\"--- conditional_edges ---\")\n",
    "    last_res = state[\"lst_res\"][-1]\n",
    "    next_node = last_res.tool_name if isinstance(state[\"lst_res\"], list) else \"final_answer\"\n",
    "    print(\"next_node:\", next_node)\n",
    "    return next_node #<--must return the next node to go\n",
    "\n",
    "# test\n",
    "conditional_edges(state)"
   ]
  },
  {
   "cell_type": "markdown",
   "id": "6cb86f8a-f7c6-41d5-b314-c07c7b385ba9",
   "metadata": {},
   "source": [
    "##### Graph"
   ]
  },
  {
   "cell_type": "code",
   "execution_count": 65,
   "id": "3559fc30-33ce-466a-88be-ebe85985084b",
   "metadata": {},
   "outputs": [],
   "source": [
    "from langgraph.graph import StateGraph, END\n",
    "\n",
    "## start the graph\n",
    "workflow = StateGraph(State)\n",
    "\n",
    "## add Agent node\n",
    "workflow.add_node(node=\"Agent\", action=node_agent) \n",
    "workflow.set_entry_point(key=\"Agent\")  #<--user query\n",
    "\n",
    "## add Tools nodes\n",
    "for k in dic_tools.keys():\n",
    "    workflow.add_node(node=k, action=node_tool)\n",
    "\n",
    "## conditional_edges from Agent\n",
    "workflow.add_conditional_edges(source=\"Agent\", path=conditional_edges)\n",
    "\n",
    "## normal_edges to Agent\n",
    "for k in dic_tools.keys():\n",
    "    if k != \"final_answer\":\n",
    "        workflow.add_edge(start_key=k, end_key=\"Agent\")\n",
    "\n",
    "## end the graph\n",
    "workflow.add_edge(start_key=\"final_answer\", end_key=END)\n",
    "g = workflow.compile()"
   ]
  },
  {
   "cell_type": "code",
   "execution_count": 66,
   "id": "5ccd3876-579f-463c-8a8f-29baea3c5574",
   "metadata": {},
   "outputs": [
    {
     "data": {
      "image/png": "[encoded data removed]",
      "text/plain": [
       "<IPython.core.display.Image object>"
      ]
     },
     "metadata": {},
     "output_type": "display_data"
    }
   ],
   "source": [
    "from IPython.display import Image, display\n",
    "from langchain_core.runnables.graph import MermaidDrawMethod\n",
    "\n",
    "display(Image(\n",
    "    g.get_graph().draw_mermaid_png(draw_method=MermaidDrawMethod.API)\n",
    "))"
   ]
  },
  {
   "cell_type": "markdown",
   "id": "18762d09-60cf-4151-9ec3-aff62a0364e2",
   "metadata": {},
   "source": [
    "This looks like error It should show at least one tool "
   ]
  },
  {
   "cell_type": "markdown",
   "id": "1daf810a-4da2-46a3-91b5-87693c58c658",
   "metadata": {},
   "source": [
    "##### Run"
   ]
  },
  {
   "cell_type": "code",
   "execution_count": 67,
   "id": "20367e09-9a6a-4005-96dd-d1064376efd8",
   "metadata": {},
   "outputs": [],
   "source": [
    "## input initial state\n",
    "initial_state = {'user_q':q,\n",
    "                 'chat_history':chat_history, \n",
    "                 'lst_res':[],\n",
    "                 'output':{} }"
   ]
  },
  {
   "cell_type": "markdown",
   "id": "5791d8ed-bfdc-4761-a435-864a032860c6",
   "metadata": {},
   "source": [
    "Below is demo of the problem "
   ]
  },
  {
   "cell_type": "code",
   "execution_count": 68,
   "id": "b38fc540-3b6f-44bf-aa08-652ae56ddeb1",
   "metadata": {},
   "outputs": [
    {
     "name": "stdout",
     "output_type": "stream",
     "text": [
      "--- node_agent ---\n",
      "tool_name='tool_browser' tool_input={'q': 'Did any G7 countries revise their 2030 carbon emission targets in 2024? If yes, which ones and what are the new goals?'} tool_output=None\n",
      "--- conditional_edges ---\n",
      "next_node: tool_browser\n",
      "--- node_tool ---\n",
      "tool_browser(input={'q': 'Did any G7 countries revise their 2030 carbon emission targets in 2024? If yes, which ones and what are the new goals?'})\n",
      "--- node_agent ---\n",
      "tool_name='tool_browser' tool_input={'q': 'Did any G7 countries revise their 2030 carbon emission targets in 2024? If yes, which ones and what are the new goals?'} tool_output=None\n",
      "--- conditional_edges ---\n",
      "next_node: tool_browser\n",
      "--- node_tool ---\n",
      "tool_browser(input={'q': 'Did any G7 countries revise their 2030 carbon emission targets in 2024? If yes, which ones and what are the new goals?'})\n",
      "--- node_agent ---\n",
      "tool_name='final_answer' tool_input={'text': \"\\n\\nAs of my knowledge cutoff in early 2023, no G7 countries had publicly announced revisions to their carbon emission targets for 2030 by the year 2024. The original question sought information on this specific subject as it pertains directly to actions or announcements made within that time frame regarding changes in climate goals among these nations, which according to available data up until early 2023 did not occur.\\n\\nHere's a summary of the current approaches and commitments by G7 countries towards their carbon emission targets as per my last update: \\n- France has set ambitious short-term climate goals but hasn't specified revisions for its 2030 target. It plans to reduce greenhouse gas emissions (GHGs) by at least 55% below 1990 levels, without expanding nuclear power beyond the initial phase out.\\n- Germany intends to reach net-zero carbon dioxide emission in its energy sector before mid-century and has not indicated a change to its target for reducing GHG emissions by at least 65% below 1990 levels, with plans possibly extending nuclear power usage under 'hydrogen readiness' strategies.\\n\\nIt is critical that climate goals are robust enough to prevent dangerous global temperature increases. The Paris Agreement sets a precedent for this purpose and encourages countries like the G7 nations to set stringent targets in alignment with keeping warming below 2°C, ideally not exceeding 1.5°C if possible.\\n\\nFor up-to-date information on any revisions or declarations from G7 member states regarding their carbon emission goals for specific years post the knowledge cutoff date, please refer to recent official statements or press releases issued by these nations' environmental departments.\"} tool_output=None\n",
      "--- conditional_edges ---\n",
      "next_node: final_answer\n",
      "--- node_tool ---\n",
      "final_answer(input={'text': \"\\n\\nAs of my knowledge cutoff in early 2023, no G7 countries had publicly announced revisions to their carbon emission targets for 2030 by the year 2024. The original question sought information on this specific subject as it pertains directly to actions or announcements made within that time frame regarding changes in climate goals among these nations, which according to available data up until early 2023 did not occur.\\n\\nHere's a summary of the current approaches and commitments by G7 countries towards their carbon emission targets as per my last update: \\n- France has set ambitious short-term climate goals but hasn't specified revisions for its 2030 target. It plans to reduce greenhouse gas emissions (GHGs) by at least 55% below 1990 levels, without expanding nuclear power beyond the initial phase out.\\n- Germany intends to reach net-zero carbon dioxide emission in its energy sector before mid-century and has not indicated a change to its target for reducing GHG emissions by at least 65% below 1990 levels, with plans possibly extending nuclear power usage under 'hydrogen readiness' strategies.\\n\\nIt is critical that climate goals are robust enough to prevent dangerous global temperature increases. The Paris Agreement sets a precedent for this purpose and encourages countries like the G7 nations to set stringent targets in alignment with keeping warming below 2°C, ideally not exceeding 1.5°C if possible.\\n\\nFor up-to-date information on any revisions or declarations from G7 member states regarding their carbon emission goals for specific years post the knowledge cutoff date, please refer to recent official statements or press releases issued by these nations' environmental departments.\"})\n",
      "----\n"
     ]
    },
    {
     "data": {
      "text/plain": [
       "\"\\n\\nAs of my knowledge cutoff in early 2023, no G7 countries had publicly announced revisions to their carbon emission targets for 2030 by the year 2024. The original question sought information on this specific subject as it pertains directly to actions or announcements made within that time frame regarding changes in climate goals among these nations, which according to available data up until early 2023 did not occur.\\n\\nHere's a summary of the current approaches and commitments by G7 countries towards their carbon emission targets as per my last update: \\n- France has set ambitious short-term climate goals but hasn't specified revisions for its 2030 target. It plans to reduce greenhouse gas emissions (GHGs) by at least 55% below 1990 levels, without expanding nuclear power beyond the initial phase out.\\n- Germany intends to reach net-zero carbon dioxide emission in its energy sector before mid-century and has not indicated a change to its target for reducing GHG emissions by at least 65% below 1990 levels, with plans possibly extending nuclear power usage under 'hydrogen readiness' strategies.\\n\\nIt is critical that climate goals are robust enough to prevent dangerous global temperature increases. The Paris Agreement sets a precedent for this purpose and encourages countries like the G7 nations to set stringent targets in alignment with keeping warming below 2°C, ideally not exceeding 1.5°C if possible.\\n\\nFor up-to-date information on any revisions or declarations from G7 member states regarding their carbon emission goals for specific years post the knowledge cutoff date, please refer to recent official statements or press releases issued by these nations' environmental departments.\""
      ]
     },
     "execution_count": 68,
     "metadata": {},
     "output_type": "execute_result"
    }
   ],
   "source": [
    "out = g.invoke(input=initial_state)\n",
    "agent_out = out['output'].tool_output\n",
    "\n",
    "print(\"----\")\n",
    "agent_out"
   ]
  },
  {
   "cell_type": "code",
   "execution_count": 69,
   "id": "8dd7ff20-c631-4848-ab01-ab316b7fe555",
   "metadata": {},
   "outputs": [
    {
     "name": "stdout",
     "output_type": "stream",
     "text": [
      "--- node_agent ---\n",
      "tool_name='tool_browser' tool_input={'q': 'Did any G7 countries revise their 2030 carbon emission targets in 2024? If yes, which ones and what are the new goals?'} tool_output=None\n",
      "--- conditional_edges ---\n",
      "next_node: tool_browser\n",
      "--- step 0 ---\n",
      "{'Agent': {'lst_res': [AgentRes(tool_name='tool_browser', tool_input={'q': 'Did any G7 countries revise their 2030 carbon emission targets in 2024? If yes, which ones and what are the new goals?'}, tool_output=None)]}}\n",
      "--- node_tool ---\n",
      "tool_browser(input={'q': 'Did any G7 countries revise their 2030 carbon emission targets in 2024? If yes, which ones and what are the new goals?'})\n",
      "--- step 1 ---\n",
      "{'tool_browser': {'lst_res': [AgentRes(tool_name='tool_browser', tool_input={'q': 'Did any G7 countries revise their 2030 carbon emission targets in 2024? If yes, which ones and what are the new goals?'}, tool_output=\"To guide efforts in ensuring that countries are on track to achieve the climate goal of the Paris Agreement, we annually evaluate the progress of 25 major emitters, which collectively cover more than 80% of global emissions, towards their climate change mitigation targets. In our 2024 update report, we modelled greenhouse gas (GHG) emissions ... Sufficient goals, like those associated with limiting global warming to a maximum of 2° Celsius, are missed by many and insufficient goals, like limiting it to 3° Celsius, continue to exist for ... The agreement also permits countries to extend the deadline if their carbon emissions are aligned with keeping global temperatures within a 1.5°C rise above pre-industrial levels. ... Climate Analytics, a leading think tank, argues that coal use in G7 nations should end by 2030, with natural gas use following by 2035, to prevent dangerous ... Carbon Markets category EU countries back softer car CO2 emissions targets 3:47 PM UTC Climate & Energy category EU warns Romania to remove gas price cap or face legal action 3:09 PM UTC Most G7 countries argue that this new gas power fleet will be used at a much lower capacity factor as a back-up generation source to balance variable renewables. Some, for example Germany, incentivize new gas power capacity build-out under the label of 'hydrogen readiness', assuming that these facilities will run on low-carbon hydrogen ...\")]}}\n",
      "--- node_agent ---\n",
      "tool_name='final_answer' tool_input={'text': \"- No G7 countries have revised their specific carbon emission targets for 2030 by April 2024, according to a Climate Analytics report; however, there are discussions about phasing out coal in major economies like those of the EU. The Paris Agreement allows some flexibility on timelines if they contribute significantly toward limiting global warming.\\n\\n- Goals related to 2°C and more ambitious targets like carbon neutrality by mid-century are set, although not all nations have specific milestones for intermediary steps such as keeping temperatures below a certain rise. The EU's legal action against Romania over energy policies is unrelated but highlights the broad discussion on climate policy.\\n\\n- Coal phaseout and natural gas transitions plans exist, with some G7 countries proposing these changes for economic stability while balancing renewable integration; however, specific 2030 targets are not detailed. Carbon market mechanisms within EU strategies suggest a move towards lower emissions but do not detail exact future goals.\\n\\n- Mention of 'hydrogen readiness' in Germany shows interest in alternative energy sources to phase out coal and transition away from fossil fuels, yet no specific targets for 2030 carbon emission revisions were provided. \\n\"} tool_output=None\n",
      "--- conditional_edges ---\n",
      "next_node: final_answer\n",
      "--- step 2 ---\n",
      "{'Agent': {'lst_res': [AgentRes(tool_name='final_answer', tool_input={'text': \"- No G7 countries have revised their specific carbon emission targets for 2030 by April 2024, according to a Climate Analytics report; however, there are discussions about phasing out coal in major economies like those of the EU. The Paris Agreement allows some flexibility on timelines if they contribute significantly toward limiting global warming.\\n\\n- Goals related to 2°C and more ambitious targets like carbon neutrality by mid-century are set, although not all nations have specific milestones for intermediary steps such as keeping temperatures below a certain rise. The EU's legal action against Romania over energy policies is unrelated but highlights the broad discussion on climate policy.\\n\\n- Coal phaseout and natural gas transitions plans exist, with some G7 countries proposing these changes for economic stability while balancing renewable integration; however, specific 2030 targets are not detailed. Carbon market mechanisms within EU strategies suggest a move towards lower emissions but do not detail exact future goals.\\n\\n- Mention of 'hydrogen readiness' in Germany shows interest in alternative energy sources to phase out coal and transition away from fossil fuels, yet no specific targets for 2030 carbon emission revisions were provided. \\n\"}, tool_output=None)]}}\n",
      "--- node_tool ---\n",
      "final_answer(input={'text': \"- No G7 countries have revised their specific carbon emission targets for 2030 by April 2024, according to a Climate Analytics report; however, there are discussions about phasing out coal in major economies like those of the EU. The Paris Agreement allows some flexibility on timelines if they contribute significantly toward limiting global warming.\\n\\n- Goals related to 2°C and more ambitious targets like carbon neutrality by mid-century are set, although not all nations have specific milestones for intermediary steps such as keeping temperatures below a certain rise. The EU's legal action against Romania over energy policies is unrelated but highlights the broad discussion on climate policy.\\n\\n- Coal phaseout and natural gas transitions plans exist, with some G7 countries proposing these changes for economic stability while balancing renewable integration; however, specific 2030 targets are not detailed. Carbon market mechanisms within EU strategies suggest a move towards lower emissions but do not detail exact future goals.\\n\\n- Mention of 'hydrogen readiness' in Germany shows interest in alternative energy sources to phase out coal and transition away from fossil fuels, yet no specific targets for 2030 carbon emission revisions were provided. \\n\"})\n",
      "--- step 3 ---\n",
      "{'final_answer': {'output': AgentRes(tool_name='final_answer', tool_input={'text': \"- No G7 countries have revised their specific carbon emission targets for 2030 by April 2024, according to a Climate Analytics report; however, there are discussions about phasing out coal in major economies like those of the EU. The Paris Agreement allows some flexibility on timelines if they contribute significantly toward limiting global warming.\\n\\n- Goals related to 2°C and more ambitious targets like carbon neutrality by mid-century are set, although not all nations have specific milestones for intermediary steps such as keeping temperatures below a certain rise. The EU's legal action against Romania over energy policies is unrelated but highlights the broad discussion on climate policy.\\n\\n- Coal phaseout and natural gas transitions plans exist, with some G7 countries proposing these changes for economic stability while balancing renewable integration; however, specific 2030 targets are not detailed. Carbon market mechanisms within EU strategies suggest a move towards lower emissions but do not detail exact future goals.\\n\\n- Mention of 'hydrogen readiness' in Germany shows interest in alternative energy sources to phase out coal and transition away from fossil fuels, yet no specific targets for 2030 carbon emission revisions were provided. \\n\"}, tool_output=\"- No G7 countries have revised their specific carbon emission targets for 2030 by April 2024, according to a Climate Analytics report; however, there are discussions about phasing out coal in major economies like those of the EU. The Paris Agreement allows some flexibility on timelines if they contribute significantly toward limiting global warming.\\n\\n- Goals related to 2°C and more ambitious targets like carbon neutrality by mid-century are set, although not all nations have specific milestones for intermediary steps such as keeping temperatures below a certain rise. The EU's legal action against Romania over energy policies is unrelated but highlights the broad discussion on climate policy.\\n\\n- Coal phaseout and natural gas transitions plans exist, with some G7 countries proposing these changes for economic stability while balancing renewable integration; however, specific 2030 targets are not detailed. Carbon market mechanisms within EU strategies suggest a move towards lower emissions but do not detail exact future goals.\\n\\n- Mention of 'hydrogen readiness' in Germany shows interest in alternative energy sources to phase out coal and transition away from fossil fuels, yet no specific targets for 2030 carbon emission revisions were provided. \\n\")}}\n"
     ]
    }
   ],
   "source": [
    "steps = g.stream(input=initial_state) \n",
    "for n,step in enumerate(steps):\n",
    "    print(\"--- step\", n, \"---\")\n",
    "    print(step)"
   ]
  },
  {
   "cell_type": "markdown",
   "id": "b21cb36f-0fb8-4c2c-adf4-d1818cfd8c36",
   "metadata": {},
   "source": [
    "### 5 - Multi-Agent & Human-in-the-Loop"
   ]
  },
  {
   "cell_type": "markdown",
   "id": "4bf46ba7-e343-4639-89cc-adab77ffb0d0",
   "metadata": {},
   "source": [
    "##### Second Agent"
   ]
  },
  {
   "cell_type": "code",
   "execution_count": 70,
   "id": "a36fd052-bc1c-40f6-9935-b1e1e8554634",
   "metadata": {},
   "outputs": [
    {
     "data": {
      "text/plain": [
       "\"\\n\\nAs of my knowledge cutoff in early 2023, no G7 countries had publicly announced revisions to their carbon emission targets for 2030 by the year 2024. The original question sought information on this specific subject as it pertains directly to actions or announcements made within that time frame regarding changes in climate goals among these nations, which according to available data up until early 2023 did not occur.\\n\\nHere's a summary of the current approaches and commitments by G7 countries towards their carbon emission targets as per my last update: \\n- France has set ambitious short-term climate goals but hasn't specified revisions for its 2030 target. It plans to reduce greenhouse gas emissions (GHGs) by at least 55% below 1990 levels, without expanding nuclear power beyond the initial phase out.\\n- Germany intends to reach net-zero carbon dioxide emission in its energy sector before mid-century and has not indicated a change to its target for reducing GHG emissions by at least 65% below 1990 levels, with plans possibly extending nuclear power usage under 'hydrogen readiness' strategies.\\n\\nIt is critical that climate goals are robust enough to prevent dangerous global temperature increases. The Paris Agreement sets a precedent for this purpose and encourages countries like the G7 nations to set stringent targets in alignment with keeping warming below 2°C, ideally not exceeding 1.5°C if possible.\\n\\nFor up-to-date information on any revisions or declarations from G7 member states regarding their carbon emission goals for specific years post the knowledge cutoff date, please refer to recent official statements or press releases issued by these nations' environmental departments.\""
      ]
     },
     "execution_count": 70,
     "metadata": {},
     "output_type": "execute_result"
    }
   ],
   "source": [
    "agent_out"
   ]
  },
  {
   "cell_type": "code",
   "execution_count": 71,
   "id": "e2644f03-f1f6-459d-bc39-6b83399afb3d",
   "metadata": {},
   "outputs": [
    {
     "name": "stdout",
     "output_type": "stream",
     "text": [
      "No good Wikipedia Search Result was found\n"
     ]
    }
   ],
   "source": [
    "from langchain_community.tools import WikipediaQueryRun\n",
    "from langchain_community.utilities import WikipediaAPIWrapper\n",
    "\n",
    "@tool(\"tool_wikipedia\")\n",
    "def tool_wikipedia(q:str) -> str:\n",
    "    \"\"\"Search on Wikipedia by passing the input `q`.\n",
    "       The input `q` must be short keywords, not a long text\"\"\"\n",
    "    return WikipediaQueryRun(api_wrapper=WikipediaAPIWrapper()).run(q)\n",
    "\n",
    "# test\n",
    "print( tool_wikipedia(agent_out) )"
   ]
  },
  {
   "cell_type": "code",
   "execution_count": 72,
   "id": "403ce9ce-61fd-4107-9d20-c5ce7c2a5465",
   "metadata": {},
   "outputs": [],
   "source": [
    "dic_tools = {\"tool_browser\":tool_browser,\n",
    "             \"final_answer\":final_answer,\n",
    "             \"tool_wikipedia\":tool_wikipedia}"
   ]
  },
  {
   "cell_type": "code",
   "execution_count": 73,
   "id": "b6c5228b-2e0e-462b-9623-2925e404904f",
   "metadata": {},
   "outputs": [],
   "source": [
    "prompt_2 = \"\"\"\n",
    "Your goal is to use the `tool_wikipedia` ONLY ONCE to enrich the information already available.\n",
    "Note, when using a tool, you provide the tool name and the arguments to use in JSON format. \n",
    "For each call, you MUST ONLY use one tool AND the response format must ALWAYS be in the pattern:\n",
    "```json\n",
    "{\"name\":\"<tool_name>\", \"parameters\": {\"<tool_input_key>\":<tool_input_value>}}\n",
    "```\n",
    "First you must use the `tool_wikipedia`, then elaborate the information to answer the user's question with `final_answer` tool.\n",
    "\"\"\""
   ]
  },
  {
   "cell_type": "code",
   "execution_count": 74,
   "id": "5a7d02e3-0643-4f52-904b-ab0d7fdb7bfe",
   "metadata": {},
   "outputs": [],
   "source": [
    "def node_agent_2(state):\n",
    "    print(\"--- node_agent 2 ---\")\n",
    "    agent_res = run_agent(prompt=prompt_2, \n",
    "                          dic_tools={k:v for k,v in dic_tools.items() if k in [\"tool_wikipedia\",\"final_answer\"]},\n",
    "                          user_q=state[\"output\"].tool_output, #<--changed user_q to the last output\n",
    "                          chat_history=state[\"chat_history\"], \n",
    "                          lst_res=state[\"lst_res\"])\n",
    "    print(agent_res)\n",
    "    return {\"lst_res\":[agent_res]} #<--must return a the list of agent_res"
   ]
  },
  {
   "cell_type": "markdown",
   "id": "9db696b2-2531-4c84-8f44-821fdf034d4c",
   "metadata": {},
   "source": [
    "##### Human in the Loop"
   ]
  },
  {
   "cell_type": "code",
   "execution_count": 76,
   "id": "65ed8e7f-ac50-406c-9f45-fd8e806cdcfe",
   "metadata": {},
   "outputs": [
    {
     "name": "stdout",
     "output_type": "stream",
     "text": [
      "--- human ---\n"
     ]
    },
    {
     "name": "stdin",
     "output_type": "stream",
     "text": [
      "Should I continue? [Yes/No] -->  N\n"
     ]
    },
    {
     "name": "stdout",
     "output_type": "stream",
     "text": [
      "next_node: __end__\n"
     ]
    },
    {
     "data": {
      "text/plain": [
       "'__end__'"
      ]
     },
     "execution_count": 76,
     "metadata": {},
     "output_type": "execute_result"
    }
   ],
   "source": [
    "# Node\n",
    "def human_node(state):\n",
    "    pass\n",
    "\n",
    "# Conditional Edges\n",
    "def human_edges(state):\n",
    "    print(\"--- human ---\")\n",
    "    user_feedback = input(\"Should I continue? [Yes/No] --> \")\n",
    "    next_node = \"Agent2\" if user_feedback.lower()[0] == \"y\" else END\n",
    "    print(\"next_node:\", next_node)\n",
    "    return next_node #<--must return the next node to go\n",
    "\n",
    "# test\n",
    "human_edges(state)"
   ]
  },
  {
   "cell_type": "markdown",
   "id": "741831c2-a4b9-403b-98f0-dc95b29d7656",
   "metadata": {},
   "source": [
    "##### New Graph"
   ]
  },
  {
   "cell_type": "code",
   "execution_count": 77,
   "id": "4fe7b498-4908-44dc-b765-7dbcd52b9eeb",
   "metadata": {},
   "outputs": [
    {
     "ename": "ValueError",
     "evalue": "Failed to reach https://mermaid.ink/ API while trying to render your graph after 1 retries. To resolve this issue:\n1. Check your internet connection and try again\n2. Try with higher retry settings: `draw_mermaid_png(..., max_retries=5, retry_delay=2.0)`\n3. Use the Pyppeteer rendering method which will render your graph locally in a browser: `draw_mermaid_png(..., draw_method=MermaidDrawMethod.PYPPETEER)`",
     "output_type": "error",
     "traceback": [
      "\u001b[31m---------------------------------------------------------------------------\u001b[39m",
      "\u001b[31mTimeoutError\u001b[39m                              Traceback (most recent call last)",
      "\u001b[36mFile \u001b[39m\u001b[32m~/Documents/AI/GenerativeAI/.venv/lib/python3.13/site-packages/urllib3/connectionpool.py:534\u001b[39m, in \u001b[36mHTTPConnectionPool._make_request\u001b[39m\u001b[34m(self, conn, method, url, body, headers, retries, timeout, chunked, response_conn, preload_content, decode_content, enforce_content_length)\u001b[39m\n\u001b[32m    533\u001b[39m \u001b[38;5;28;01mtry\u001b[39;00m:\n\u001b[32m--> \u001b[39m\u001b[32m534\u001b[39m     response = \u001b[43mconn\u001b[49m\u001b[43m.\u001b[49m\u001b[43mgetresponse\u001b[49m\u001b[43m(\u001b[49m\u001b[43m)\u001b[49m\n\u001b[32m    535\u001b[39m \u001b[38;5;28;01mexcept\u001b[39;00m (BaseSSLError, \u001b[38;5;167;01mOSError\u001b[39;00m) \u001b[38;5;28;01mas\u001b[39;00m e:\n",
      "\u001b[36mFile \u001b[39m\u001b[32m~/Documents/AI/GenerativeAI/.venv/lib/python3.13/site-packages/urllib3/connection.py:516\u001b[39m, in \u001b[36mHTTPConnection.getresponse\u001b[39m\u001b[34m(self)\u001b[39m\n\u001b[32m    515\u001b[39m \u001b[38;5;66;03m# Get the response from http.client.HTTPConnection\u001b[39;00m\n\u001b[32m--> \u001b[39m\u001b[32m516\u001b[39m httplib_response = \u001b[38;5;28;43msuper\u001b[39;49m\u001b[43m(\u001b[49m\u001b[43m)\u001b[49m\u001b[43m.\u001b[49m\u001b[43mgetresponse\u001b[49m\u001b[43m(\u001b[49m\u001b[43m)\u001b[49m\n\u001b[32m    518\u001b[39m \u001b[38;5;28;01mtry\u001b[39;00m:\n",
      "\u001b[36mFile \u001b[39m\u001b[32m~/.pyenv/versions/3.13.3/lib/python3.13/http/client.py:1430\u001b[39m, in \u001b[36mHTTPConnection.getresponse\u001b[39m\u001b[34m(self)\u001b[39m\n\u001b[32m   1429\u001b[39m \u001b[38;5;28;01mtry\u001b[39;00m:\n\u001b[32m-> \u001b[39m\u001b[32m1430\u001b[39m     \u001b[43mresponse\u001b[49m\u001b[43m.\u001b[49m\u001b[43mbegin\u001b[49m\u001b[43m(\u001b[49m\u001b[43m)\u001b[49m\n\u001b[32m   1431\u001b[39m \u001b[38;5;28;01mexcept\u001b[39;00m \u001b[38;5;167;01mConnectionError\u001b[39;00m:\n",
      "\u001b[36mFile \u001b[39m\u001b[32m~/.pyenv/versions/3.13.3/lib/python3.13/http/client.py:331\u001b[39m, in \u001b[36mHTTPResponse.begin\u001b[39m\u001b[34m(self)\u001b[39m\n\u001b[32m    330\u001b[39m \u001b[38;5;28;01mwhile\u001b[39;00m \u001b[38;5;28;01mTrue\u001b[39;00m:\n\u001b[32m--> \u001b[39m\u001b[32m331\u001b[39m     version, status, reason = \u001b[38;5;28;43mself\u001b[39;49m\u001b[43m.\u001b[49m\u001b[43m_read_status\u001b[49m\u001b[43m(\u001b[49m\u001b[43m)\u001b[49m\n\u001b[32m    332\u001b[39m     \u001b[38;5;28;01mif\u001b[39;00m status != CONTINUE:\n",
      "\u001b[36mFile \u001b[39m\u001b[32m~/.pyenv/versions/3.13.3/lib/python3.13/http/client.py:292\u001b[39m, in \u001b[36mHTTPResponse._read_status\u001b[39m\u001b[34m(self)\u001b[39m\n\u001b[32m    291\u001b[39m \u001b[38;5;28;01mdef\u001b[39;00m\u001b[38;5;250m \u001b[39m\u001b[34m_read_status\u001b[39m(\u001b[38;5;28mself\u001b[39m):\n\u001b[32m--> \u001b[39m\u001b[32m292\u001b[39m     line = \u001b[38;5;28mstr\u001b[39m(\u001b[38;5;28;43mself\u001b[39;49m\u001b[43m.\u001b[49m\u001b[43mfp\u001b[49m\u001b[43m.\u001b[49m\u001b[43mreadline\u001b[49m\u001b[43m(\u001b[49m\u001b[43m_MAXLINE\u001b[49m\u001b[43m \u001b[49m\u001b[43m+\u001b[49m\u001b[43m \u001b[49m\u001b[32;43m1\u001b[39;49m\u001b[43m)\u001b[49m, \u001b[33m\"\u001b[39m\u001b[33miso-8859-1\u001b[39m\u001b[33m\"\u001b[39m)\n\u001b[32m    293\u001b[39m     \u001b[38;5;28;01mif\u001b[39;00m \u001b[38;5;28mlen\u001b[39m(line) > _MAXLINE:\n",
      "\u001b[36mFile \u001b[39m\u001b[32m~/.pyenv/versions/3.13.3/lib/python3.13/socket.py:719\u001b[39m, in \u001b[36mSocketIO.readinto\u001b[39m\u001b[34m(self, b)\u001b[39m\n\u001b[32m    718\u001b[39m \u001b[38;5;28;01mtry\u001b[39;00m:\n\u001b[32m--> \u001b[39m\u001b[32m719\u001b[39m     \u001b[38;5;28;01mreturn\u001b[39;00m \u001b[38;5;28;43mself\u001b[39;49m\u001b[43m.\u001b[49m\u001b[43m_sock\u001b[49m\u001b[43m.\u001b[49m\u001b[43mrecv_into\u001b[49m\u001b[43m(\u001b[49m\u001b[43mb\u001b[49m\u001b[43m)\u001b[49m\n\u001b[32m    720\u001b[39m \u001b[38;5;28;01mexcept\u001b[39;00m timeout:\n",
      "\u001b[36mFile \u001b[39m\u001b[32m~/.pyenv/versions/3.13.3/lib/python3.13/ssl.py:1304\u001b[39m, in \u001b[36mSSLSocket.recv_into\u001b[39m\u001b[34m(self, buffer, nbytes, flags)\u001b[39m\n\u001b[32m   1301\u001b[39m         \u001b[38;5;28;01mraise\u001b[39;00m \u001b[38;5;167;01mValueError\u001b[39;00m(\n\u001b[32m   1302\u001b[39m           \u001b[33m\"\u001b[39m\u001b[33mnon-zero flags not allowed in calls to recv_into() on \u001b[39m\u001b[38;5;132;01m%s\u001b[39;00m\u001b[33m\"\u001b[39m %\n\u001b[32m   1303\u001b[39m           \u001b[38;5;28mself\u001b[39m.\u001b[34m__class__\u001b[39m)\n\u001b[32m-> \u001b[39m\u001b[32m1304\u001b[39m     \u001b[38;5;28;01mreturn\u001b[39;00m \u001b[38;5;28;43mself\u001b[39;49m\u001b[43m.\u001b[49m\u001b[43mread\u001b[49m\u001b[43m(\u001b[49m\u001b[43mnbytes\u001b[49m\u001b[43m,\u001b[49m\u001b[43m \u001b[49m\u001b[43mbuffer\u001b[49m\u001b[43m)\u001b[49m\n\u001b[32m   1305\u001b[39m \u001b[38;5;28;01melse\u001b[39;00m:\n",
      "\u001b[36mFile \u001b[39m\u001b[32m~/.pyenv/versions/3.13.3/lib/python3.13/ssl.py:1138\u001b[39m, in \u001b[36mSSLSocket.read\u001b[39m\u001b[34m(self, len, buffer)\u001b[39m\n\u001b[32m   1137\u001b[39m \u001b[38;5;28;01mif\u001b[39;00m buffer \u001b[38;5;129;01mis\u001b[39;00m \u001b[38;5;129;01mnot\u001b[39;00m \u001b[38;5;28;01mNone\u001b[39;00m:\n\u001b[32m-> \u001b[39m\u001b[32m1138\u001b[39m     \u001b[38;5;28;01mreturn\u001b[39;00m \u001b[38;5;28;43mself\u001b[39;49m\u001b[43m.\u001b[49m\u001b[43m_sslobj\u001b[49m\u001b[43m.\u001b[49m\u001b[43mread\u001b[49m\u001b[43m(\u001b[49m\u001b[38;5;28;43mlen\u001b[39;49m\u001b[43m,\u001b[49m\u001b[43m \u001b[49m\u001b[43mbuffer\u001b[49m\u001b[43m)\u001b[49m\n\u001b[32m   1139\u001b[39m \u001b[38;5;28;01melse\u001b[39;00m:\n",
      "\u001b[31mTimeoutError\u001b[39m: The read operation timed out",
      "\nThe above exception was the direct cause of the following exception:\n",
      "\u001b[31mReadTimeoutError\u001b[39m                          Traceback (most recent call last)",
      "\u001b[36mFile \u001b[39m\u001b[32m~/Documents/AI/GenerativeAI/.venv/lib/python3.13/site-packages/requests/adapters.py:667\u001b[39m, in \u001b[36mHTTPAdapter.send\u001b[39m\u001b[34m(self, request, stream, timeout, verify, cert, proxies)\u001b[39m\n\u001b[32m    666\u001b[39m \u001b[38;5;28;01mtry\u001b[39;00m:\n\u001b[32m--> \u001b[39m\u001b[32m667\u001b[39m     resp = \u001b[43mconn\u001b[49m\u001b[43m.\u001b[49m\u001b[43murlopen\u001b[49m\u001b[43m(\u001b[49m\n\u001b[32m    668\u001b[39m \u001b[43m        \u001b[49m\u001b[43mmethod\u001b[49m\u001b[43m=\u001b[49m\u001b[43mrequest\u001b[49m\u001b[43m.\u001b[49m\u001b[43mmethod\u001b[49m\u001b[43m,\u001b[49m\n\u001b[32m    669\u001b[39m \u001b[43m        \u001b[49m\u001b[43murl\u001b[49m\u001b[43m=\u001b[49m\u001b[43murl\u001b[49m\u001b[43m,\u001b[49m\n\u001b[32m    670\u001b[39m \u001b[43m        \u001b[49m\u001b[43mbody\u001b[49m\u001b[43m=\u001b[49m\u001b[43mrequest\u001b[49m\u001b[43m.\u001b[49m\u001b[43mbody\u001b[49m\u001b[43m,\u001b[49m\n\u001b[32m    671\u001b[39m \u001b[43m        \u001b[49m\u001b[43mheaders\u001b[49m\u001b[43m=\u001b[49m\u001b[43mrequest\u001b[49m\u001b[43m.\u001b[49m\u001b[43mheaders\u001b[49m\u001b[43m,\u001b[49m\n\u001b[32m    672\u001b[39m \u001b[43m        \u001b[49m\u001b[43mredirect\u001b[49m\u001b[43m=\u001b[49m\u001b[38;5;28;43;01mFalse\u001b[39;49;00m\u001b[43m,\u001b[49m\n\u001b[32m    673\u001b[39m \u001b[43m        \u001b[49m\u001b[43massert_same_host\u001b[49m\u001b[43m=\u001b[49m\u001b[38;5;28;43;01mFalse\u001b[39;49;00m\u001b[43m,\u001b[49m\n\u001b[32m    674\u001b[39m \u001b[43m        \u001b[49m\u001b[43mpreload_content\u001b[49m\u001b[43m=\u001b[49m\u001b[38;5;28;43;01mFalse\u001b[39;49;00m\u001b[43m,\u001b[49m\n\u001b[32m    675\u001b[39m \u001b[43m        \u001b[49m\u001b[43mdecode_content\u001b[49m\u001b[43m=\u001b[49m\u001b[38;5;28;43;01mFalse\u001b[39;49;00m\u001b[43m,\u001b[49m\n\u001b[32m    676\u001b[39m \u001b[43m        \u001b[49m\u001b[43mretries\u001b[49m\u001b[43m=\u001b[49m\u001b[38;5;28;43mself\u001b[39;49m\u001b[43m.\u001b[49m\u001b[43mmax_retries\u001b[49m\u001b[43m,\u001b[49m\n\u001b[32m    677\u001b[39m \u001b[43m        \u001b[49m\u001b[43mtimeout\u001b[49m\u001b[43m=\u001b[49m\u001b[43mtimeout\u001b[49m\u001b[43m,\u001b[49m\n\u001b[32m    678\u001b[39m \u001b[43m        \u001b[49m\u001b[43mchunked\u001b[49m\u001b[43m=\u001b[49m\u001b[43mchunked\u001b[49m\u001b[43m,\u001b[49m\n\u001b[32m    679\u001b[39m \u001b[43m    \u001b[49m\u001b[43m)\u001b[49m\n\u001b[32m    681\u001b[39m \u001b[38;5;28;01mexcept\u001b[39;00m (ProtocolError, \u001b[38;5;167;01mOSError\u001b[39;00m) \u001b[38;5;28;01mas\u001b[39;00m err:\n",
      "\u001b[36mFile \u001b[39m\u001b[32m~/Documents/AI/GenerativeAI/.venv/lib/python3.13/site-packages/urllib3/connectionpool.py:841\u001b[39m, in \u001b[36mHTTPConnectionPool.urlopen\u001b[39m\u001b[34m(self, method, url, body, headers, retries, redirect, assert_same_host, timeout, pool_timeout, release_conn, chunked, body_pos, preload_content, decode_content, **response_kw)\u001b[39m\n\u001b[32m    839\u001b[39m     new_e = ProtocolError(\u001b[33m\"\u001b[39m\u001b[33mConnection aborted.\u001b[39m\u001b[33m\"\u001b[39m, new_e)\n\u001b[32m--> \u001b[39m\u001b[32m841\u001b[39m retries = \u001b[43mretries\u001b[49m\u001b[43m.\u001b[49m\u001b[43mincrement\u001b[49m\u001b[43m(\u001b[49m\n\u001b[32m    842\u001b[39m \u001b[43m    \u001b[49m\u001b[43mmethod\u001b[49m\u001b[43m,\u001b[49m\u001b[43m \u001b[49m\u001b[43murl\u001b[49m\u001b[43m,\u001b[49m\u001b[43m \u001b[49m\u001b[43merror\u001b[49m\u001b[43m=\u001b[49m\u001b[43mnew_e\u001b[49m\u001b[43m,\u001b[49m\u001b[43m \u001b[49m\u001b[43m_pool\u001b[49m\u001b[43m=\u001b[49m\u001b[38;5;28;43mself\u001b[39;49m\u001b[43m,\u001b[49m\u001b[43m \u001b[49m\u001b[43m_stacktrace\u001b[49m\u001b[43m=\u001b[49m\u001b[43msys\u001b[49m\u001b[43m.\u001b[49m\u001b[43mexc_info\u001b[49m\u001b[43m(\u001b[49m\u001b[43m)\u001b[49m\u001b[43m[\u001b[49m\u001b[32;43m2\u001b[39;49m\u001b[43m]\u001b[49m\n\u001b[32m    843\u001b[39m \u001b[43m\u001b[49m\u001b[43m)\u001b[49m\n\u001b[32m    844\u001b[39m retries.sleep()\n",
      "\u001b[36mFile \u001b[39m\u001b[32m~/Documents/AI/GenerativeAI/.venv/lib/python3.13/site-packages/urllib3/util/retry.py:474\u001b[39m, in \u001b[36mRetry.increment\u001b[39m\u001b[34m(self, method, url, response, error, _pool, _stacktrace)\u001b[39m\n\u001b[32m    473\u001b[39m \u001b[38;5;28;01mif\u001b[39;00m read \u001b[38;5;129;01mis\u001b[39;00m \u001b[38;5;28;01mFalse\u001b[39;00m \u001b[38;5;129;01mor\u001b[39;00m method \u001b[38;5;129;01mis\u001b[39;00m \u001b[38;5;28;01mNone\u001b[39;00m \u001b[38;5;129;01mor\u001b[39;00m \u001b[38;5;129;01mnot\u001b[39;00m \u001b[38;5;28mself\u001b[39m._is_method_retryable(method):\n\u001b[32m--> \u001b[39m\u001b[32m474\u001b[39m     \u001b[38;5;28;01mraise\u001b[39;00m \u001b[43mreraise\u001b[49m\u001b[43m(\u001b[49m\u001b[38;5;28;43mtype\u001b[39;49m\u001b[43m(\u001b[49m\u001b[43merror\u001b[49m\u001b[43m)\u001b[49m\u001b[43m,\u001b[49m\u001b[43m \u001b[49m\u001b[43merror\u001b[49m\u001b[43m,\u001b[49m\u001b[43m \u001b[49m\u001b[43m_stacktrace\u001b[49m\u001b[43m)\u001b[49m\n\u001b[32m    475\u001b[39m \u001b[38;5;28;01melif\u001b[39;00m read \u001b[38;5;129;01mis\u001b[39;00m \u001b[38;5;129;01mnot\u001b[39;00m \u001b[38;5;28;01mNone\u001b[39;00m:\n",
      "\u001b[36mFile \u001b[39m\u001b[32m~/Documents/AI/GenerativeAI/.venv/lib/python3.13/site-packages/urllib3/util/util.py:39\u001b[39m, in \u001b[36mreraise\u001b[39m\u001b[34m(tp, value, tb)\u001b[39m\n\u001b[32m     38\u001b[39m         \u001b[38;5;28;01mraise\u001b[39;00m value.with_traceback(tb)\n\u001b[32m---> \u001b[39m\u001b[32m39\u001b[39m     \u001b[38;5;28;01mraise\u001b[39;00m value\n\u001b[32m     40\u001b[39m \u001b[38;5;28;01mfinally\u001b[39;00m:\n",
      "\u001b[36mFile \u001b[39m\u001b[32m~/Documents/AI/GenerativeAI/.venv/lib/python3.13/site-packages/urllib3/connectionpool.py:787\u001b[39m, in \u001b[36mHTTPConnectionPool.urlopen\u001b[39m\u001b[34m(self, method, url, body, headers, retries, redirect, assert_same_host, timeout, pool_timeout, release_conn, chunked, body_pos, preload_content, decode_content, **response_kw)\u001b[39m\n\u001b[32m    786\u001b[39m \u001b[38;5;66;03m# Make the request on the HTTPConnection object\u001b[39;00m\n\u001b[32m--> \u001b[39m\u001b[32m787\u001b[39m response = \u001b[38;5;28;43mself\u001b[39;49m\u001b[43m.\u001b[49m\u001b[43m_make_request\u001b[49m\u001b[43m(\u001b[49m\n\u001b[32m    788\u001b[39m \u001b[43m    \u001b[49m\u001b[43mconn\u001b[49m\u001b[43m,\u001b[49m\n\u001b[32m    789\u001b[39m \u001b[43m    \u001b[49m\u001b[43mmethod\u001b[49m\u001b[43m,\u001b[49m\n\u001b[32m    790\u001b[39m \u001b[43m    \u001b[49m\u001b[43murl\u001b[49m\u001b[43m,\u001b[49m\n\u001b[32m    791\u001b[39m \u001b[43m    \u001b[49m\u001b[43mtimeout\u001b[49m\u001b[43m=\u001b[49m\u001b[43mtimeout_obj\u001b[49m\u001b[43m,\u001b[49m\n\u001b[32m    792\u001b[39m \u001b[43m    \u001b[49m\u001b[43mbody\u001b[49m\u001b[43m=\u001b[49m\u001b[43mbody\u001b[49m\u001b[43m,\u001b[49m\n\u001b[32m    793\u001b[39m \u001b[43m    \u001b[49m\u001b[43mheaders\u001b[49m\u001b[43m=\u001b[49m\u001b[43mheaders\u001b[49m\u001b[43m,\u001b[49m\n\u001b[32m    794\u001b[39m \u001b[43m    \u001b[49m\u001b[43mchunked\u001b[49m\u001b[43m=\u001b[49m\u001b[43mchunked\u001b[49m\u001b[43m,\u001b[49m\n\u001b[32m    795\u001b[39m \u001b[43m    \u001b[49m\u001b[43mretries\u001b[49m\u001b[43m=\u001b[49m\u001b[43mretries\u001b[49m\u001b[43m,\u001b[49m\n\u001b[32m    796\u001b[39m \u001b[43m    \u001b[49m\u001b[43mresponse_conn\u001b[49m\u001b[43m=\u001b[49m\u001b[43mresponse_conn\u001b[49m\u001b[43m,\u001b[49m\n\u001b[32m    797\u001b[39m \u001b[43m    \u001b[49m\u001b[43mpreload_content\u001b[49m\u001b[43m=\u001b[49m\u001b[43mpreload_content\u001b[49m\u001b[43m,\u001b[49m\n\u001b[32m    798\u001b[39m \u001b[43m    \u001b[49m\u001b[43mdecode_content\u001b[49m\u001b[43m=\u001b[49m\u001b[43mdecode_content\u001b[49m\u001b[43m,\u001b[49m\n\u001b[32m    799\u001b[39m \u001b[43m    \u001b[49m\u001b[43m*\u001b[49m\u001b[43m*\u001b[49m\u001b[43mresponse_kw\u001b[49m\u001b[43m,\u001b[49m\n\u001b[32m    800\u001b[39m \u001b[43m\u001b[49m\u001b[43m)\u001b[49m\n\u001b[32m    802\u001b[39m \u001b[38;5;66;03m# Everything went great!\u001b[39;00m\n",
      "\u001b[36mFile \u001b[39m\u001b[32m~/Documents/AI/GenerativeAI/.venv/lib/python3.13/site-packages/urllib3/connectionpool.py:536\u001b[39m, in \u001b[36mHTTPConnectionPool._make_request\u001b[39m\u001b[34m(self, conn, method, url, body, headers, retries, timeout, chunked, response_conn, preload_content, decode_content, enforce_content_length)\u001b[39m\n\u001b[32m    535\u001b[39m \u001b[38;5;28;01mexcept\u001b[39;00m (BaseSSLError, \u001b[38;5;167;01mOSError\u001b[39;00m) \u001b[38;5;28;01mas\u001b[39;00m e:\n\u001b[32m--> \u001b[39m\u001b[32m536\u001b[39m     \u001b[38;5;28;43mself\u001b[39;49m\u001b[43m.\u001b[49m\u001b[43m_raise_timeout\u001b[49m\u001b[43m(\u001b[49m\u001b[43merr\u001b[49m\u001b[43m=\u001b[49m\u001b[43me\u001b[49m\u001b[43m,\u001b[49m\u001b[43m \u001b[49m\u001b[43murl\u001b[49m\u001b[43m=\u001b[49m\u001b[43murl\u001b[49m\u001b[43m,\u001b[49m\u001b[43m \u001b[49m\u001b[43mtimeout_value\u001b[49m\u001b[43m=\u001b[49m\u001b[43mread_timeout\u001b[49m\u001b[43m)\u001b[49m\n\u001b[32m    537\u001b[39m     \u001b[38;5;28;01mraise\u001b[39;00m\n",
      "\u001b[36mFile \u001b[39m\u001b[32m~/Documents/AI/GenerativeAI/.venv/lib/python3.13/site-packages/urllib3/connectionpool.py:367\u001b[39m, in \u001b[36mHTTPConnectionPool._raise_timeout\u001b[39m\u001b[34m(self, err, url, timeout_value)\u001b[39m\n\u001b[32m    366\u001b[39m \u001b[38;5;28;01mif\u001b[39;00m \u001b[38;5;28misinstance\u001b[39m(err, SocketTimeout):\n\u001b[32m--> \u001b[39m\u001b[32m367\u001b[39m     \u001b[38;5;28;01mraise\u001b[39;00m ReadTimeoutError(\n\u001b[32m    368\u001b[39m         \u001b[38;5;28mself\u001b[39m, url, \u001b[33mf\u001b[39m\u001b[33m\"\u001b[39m\u001b[33mRead timed out. (read timeout=\u001b[39m\u001b[38;5;132;01m{\u001b[39;00mtimeout_value\u001b[38;5;132;01m}\u001b[39;00m\u001b[33m)\u001b[39m\u001b[33m\"\u001b[39m\n\u001b[32m    369\u001b[39m     ) \u001b[38;5;28;01mfrom\u001b[39;00m\u001b[38;5;250m \u001b[39m\u001b[34;01merr\u001b[39;00m\n\u001b[32m    371\u001b[39m \u001b[38;5;66;03m# See the above comment about EAGAIN in Python 3.\u001b[39;00m\n",
      "\u001b[31mReadTimeoutError\u001b[39m: HTTPSConnectionPool(host='mermaid.ink', port=443): Read timed out. (read timeout=10)",
      "\nDuring handling of the above exception, another exception occurred:\n",
      "\u001b[31mReadTimeout\u001b[39m                               Traceback (most recent call last)",
      "\u001b[36mFile \u001b[39m\u001b[32m~/Documents/AI/GenerativeAI/.venv/lib/python3.13/site-packages/langchain_core/runnables/graph_mermaid.py:430\u001b[39m, in \u001b[36m_render_mermaid_using_api\u001b[39m\u001b[34m(mermaid_syntax, output_file_path, background_color, file_type, max_retries, retry_delay)\u001b[39m\n\u001b[32m    429\u001b[39m \u001b[38;5;28;01mtry\u001b[39;00m:\n\u001b[32m--> \u001b[39m\u001b[32m430\u001b[39m     response = \u001b[43mrequests\u001b[49m\u001b[43m.\u001b[49m\u001b[43mget\u001b[49m\u001b[43m(\u001b[49m\u001b[43mimage_url\u001b[49m\u001b[43m,\u001b[49m\u001b[43m \u001b[49m\u001b[43mtimeout\u001b[49m\u001b[43m=\u001b[49m\u001b[32;43m10\u001b[39;49m\u001b[43m)\u001b[49m\n\u001b[32m    431\u001b[39m     \u001b[38;5;28;01mif\u001b[39;00m response.status_code == requests.codes.ok:\n",
      "\u001b[36mFile \u001b[39m\u001b[32m~/Documents/AI/GenerativeAI/.venv/lib/python3.13/site-packages/requests/api.py:73\u001b[39m, in \u001b[36mget\u001b[39m\u001b[34m(url, params, **kwargs)\u001b[39m\n\u001b[32m     63\u001b[39m \u001b[38;5;250m\u001b[39m\u001b[33mr\u001b[39m\u001b[33;03m\"\"\"Sends a GET request.\u001b[39;00m\n\u001b[32m     64\u001b[39m \n\u001b[32m     65\u001b[39m \u001b[33;03m:param url: URL for the new :class:`Request` object.\u001b[39;00m\n\u001b[32m   (...)\u001b[39m\u001b[32m     70\u001b[39m \u001b[33;03m:rtype: requests.Response\u001b[39;00m\n\u001b[32m     71\u001b[39m \u001b[33;03m\"\"\"\u001b[39;00m\n\u001b[32m---> \u001b[39m\u001b[32m73\u001b[39m \u001b[38;5;28;01mreturn\u001b[39;00m \u001b[43mrequest\u001b[49m\u001b[43m(\u001b[49m\u001b[33;43m\"\u001b[39;49m\u001b[33;43mget\u001b[39;49m\u001b[33;43m\"\u001b[39;49m\u001b[43m,\u001b[49m\u001b[43m \u001b[49m\u001b[43murl\u001b[49m\u001b[43m,\u001b[49m\u001b[43m \u001b[49m\u001b[43mparams\u001b[49m\u001b[43m=\u001b[49m\u001b[43mparams\u001b[49m\u001b[43m,\u001b[49m\u001b[43m \u001b[49m\u001b[43m*\u001b[49m\u001b[43m*\u001b[49m\u001b[43mkwargs\u001b[49m\u001b[43m)\u001b[49m\n",
      "\u001b[36mFile \u001b[39m\u001b[32m~/Documents/AI/GenerativeAI/.venv/lib/python3.13/site-packages/requests/api.py:59\u001b[39m, in \u001b[36mrequest\u001b[39m\u001b[34m(method, url, **kwargs)\u001b[39m\n\u001b[32m     58\u001b[39m \u001b[38;5;28;01mwith\u001b[39;00m sessions.Session() \u001b[38;5;28;01mas\u001b[39;00m session:\n\u001b[32m---> \u001b[39m\u001b[32m59\u001b[39m     \u001b[38;5;28;01mreturn\u001b[39;00m \u001b[43msession\u001b[49m\u001b[43m.\u001b[49m\u001b[43mrequest\u001b[49m\u001b[43m(\u001b[49m\u001b[43mmethod\u001b[49m\u001b[43m=\u001b[49m\u001b[43mmethod\u001b[49m\u001b[43m,\u001b[49m\u001b[43m \u001b[49m\u001b[43murl\u001b[49m\u001b[43m=\u001b[49m\u001b[43murl\u001b[49m\u001b[43m,\u001b[49m\u001b[43m \u001b[49m\u001b[43m*\u001b[49m\u001b[43m*\u001b[49m\u001b[43mkwargs\u001b[49m\u001b[43m)\u001b[49m\n",
      "\u001b[36mFile \u001b[39m\u001b[32m~/Documents/AI/GenerativeAI/.venv/lib/python3.13/site-packages/requests/sessions.py:589\u001b[39m, in \u001b[36mSession.request\u001b[39m\u001b[34m(self, method, url, params, data, headers, cookies, files, auth, timeout, allow_redirects, proxies, hooks, stream, verify, cert, json)\u001b[39m\n\u001b[32m    588\u001b[39m send_kwargs.update(settings)\n\u001b[32m--> \u001b[39m\u001b[32m589\u001b[39m resp = \u001b[38;5;28;43mself\u001b[39;49m\u001b[43m.\u001b[49m\u001b[43msend\u001b[49m\u001b[43m(\u001b[49m\u001b[43mprep\u001b[49m\u001b[43m,\u001b[49m\u001b[43m \u001b[49m\u001b[43m*\u001b[49m\u001b[43m*\u001b[49m\u001b[43msend_kwargs\u001b[49m\u001b[43m)\u001b[49m\n\u001b[32m    591\u001b[39m \u001b[38;5;28;01mreturn\u001b[39;00m resp\n",
      "\u001b[36mFile \u001b[39m\u001b[32m~/Documents/AI/GenerativeAI/.venv/lib/python3.13/site-packages/requests/sessions.py:703\u001b[39m, in \u001b[36mSession.send\u001b[39m\u001b[34m(self, request, **kwargs)\u001b[39m\n\u001b[32m    702\u001b[39m \u001b[38;5;66;03m# Send the request\u001b[39;00m\n\u001b[32m--> \u001b[39m\u001b[32m703\u001b[39m r = \u001b[43madapter\u001b[49m\u001b[43m.\u001b[49m\u001b[43msend\u001b[49m\u001b[43m(\u001b[49m\u001b[43mrequest\u001b[49m\u001b[43m,\u001b[49m\u001b[43m \u001b[49m\u001b[43m*\u001b[49m\u001b[43m*\u001b[49m\u001b[43mkwargs\u001b[49m\u001b[43m)\u001b[49m\n\u001b[32m    705\u001b[39m \u001b[38;5;66;03m# Total elapsed time of the request (approximately)\u001b[39;00m\n",
      "\u001b[36mFile \u001b[39m\u001b[32m~/Documents/AI/GenerativeAI/.venv/lib/python3.13/site-packages/requests/adapters.py:713\u001b[39m, in \u001b[36mHTTPAdapter.send\u001b[39m\u001b[34m(self, request, stream, timeout, verify, cert, proxies)\u001b[39m\n\u001b[32m    712\u001b[39m \u001b[38;5;28;01melif\u001b[39;00m \u001b[38;5;28misinstance\u001b[39m(e, ReadTimeoutError):\n\u001b[32m--> \u001b[39m\u001b[32m713\u001b[39m     \u001b[38;5;28;01mraise\u001b[39;00m ReadTimeout(e, request=request)\n\u001b[32m    714\u001b[39m \u001b[38;5;28;01melif\u001b[39;00m \u001b[38;5;28misinstance\u001b[39m(e, _InvalidHeader):\n",
      "\u001b[31mReadTimeout\u001b[39m: HTTPSConnectionPool(host='mermaid.ink', port=443): Read timed out. (read timeout=10)",
      "\nThe above exception was the direct cause of the following exception:\n",
      "\u001b[31mValueError\u001b[39m                                Traceback (most recent call last)",
      "\u001b[36mCell\u001b[39m\u001b[36m \u001b[39m\u001b[32mIn[77]\u001b[39m\u001b[32m, line 45\u001b[39m\n\u001b[32m     41\u001b[39m g2 = workflow.compile()\n\u001b[32m     43\u001b[39m \u001b[38;5;66;03m## plot\u001b[39;00m\n\u001b[32m     44\u001b[39m display(Image(\n\u001b[32m---> \u001b[39m\u001b[32m45\u001b[39m     \u001b[43mg2\u001b[49m\u001b[43m.\u001b[49m\u001b[43mget_graph\u001b[49m\u001b[43m(\u001b[49m\u001b[43m)\u001b[49m\u001b[43m.\u001b[49m\u001b[43mdraw_mermaid_png\u001b[49m\u001b[43m(\u001b[49m\u001b[43mdraw_method\u001b[49m\u001b[43m=\u001b[49m\u001b[43mMermaidDrawMethod\u001b[49m\u001b[43m.\u001b[49m\u001b[43mAPI\u001b[49m\u001b[43m)\u001b[49m\n\u001b[32m     46\u001b[39m ))\n",
      "\u001b[36mFile \u001b[39m\u001b[32m~/Documents/AI/GenerativeAI/.venv/lib/python3.13/site-packages/langchain_core/runnables/graph.py:685\u001b[39m, in \u001b[36mGraph.draw_mermaid_png\u001b[39m\u001b[34m(self, curve_style, node_colors, wrap_label_n_words, output_file_path, draw_method, background_color, padding, max_retries, retry_delay, frontmatter_config)\u001b[39m\n\u001b[32m    677\u001b[39m \u001b[38;5;28;01mfrom\u001b[39;00m\u001b[38;5;250m \u001b[39m\u001b[34;01mlangchain_core\u001b[39;00m\u001b[34;01m.\u001b[39;00m\u001b[34;01mrunnables\u001b[39;00m\u001b[34;01m.\u001b[39;00m\u001b[34;01mgraph_mermaid\u001b[39;00m\u001b[38;5;250m \u001b[39m\u001b[38;5;28;01mimport\u001b[39;00m draw_mermaid_png\n\u001b[32m    679\u001b[39m mermaid_syntax = \u001b[38;5;28mself\u001b[39m.draw_mermaid(\n\u001b[32m    680\u001b[39m     curve_style=curve_style,\n\u001b[32m    681\u001b[39m     node_colors=node_colors,\n\u001b[32m    682\u001b[39m     wrap_label_n_words=wrap_label_n_words,\n\u001b[32m    683\u001b[39m     frontmatter_config=frontmatter_config,\n\u001b[32m    684\u001b[39m )\n\u001b[32m--> \u001b[39m\u001b[32m685\u001b[39m \u001b[38;5;28;01mreturn\u001b[39;00m \u001b[43mdraw_mermaid_png\u001b[49m\u001b[43m(\u001b[49m\n\u001b[32m    686\u001b[39m \u001b[43m    \u001b[49m\u001b[43mmermaid_syntax\u001b[49m\u001b[43m=\u001b[49m\u001b[43mmermaid_syntax\u001b[49m\u001b[43m,\u001b[49m\n\u001b[32m    687\u001b[39m \u001b[43m    \u001b[49m\u001b[43moutput_file_path\u001b[49m\u001b[43m=\u001b[49m\u001b[43moutput_file_path\u001b[49m\u001b[43m,\u001b[49m\n\u001b[32m    688\u001b[39m \u001b[43m    \u001b[49m\u001b[43mdraw_method\u001b[49m\u001b[43m=\u001b[49m\u001b[43mdraw_method\u001b[49m\u001b[43m,\u001b[49m\n\u001b[32m    689\u001b[39m \u001b[43m    \u001b[49m\u001b[43mbackground_color\u001b[49m\u001b[43m=\u001b[49m\u001b[43mbackground_color\u001b[49m\u001b[43m,\u001b[49m\n\u001b[32m    690\u001b[39m \u001b[43m    \u001b[49m\u001b[43mpadding\u001b[49m\u001b[43m=\u001b[49m\u001b[43mpadding\u001b[49m\u001b[43m,\u001b[49m\n\u001b[32m    691\u001b[39m \u001b[43m    \u001b[49m\u001b[43mmax_retries\u001b[49m\u001b[43m=\u001b[49m\u001b[43mmax_retries\u001b[49m\u001b[43m,\u001b[49m\n\u001b[32m    692\u001b[39m \u001b[43m    \u001b[49m\u001b[43mretry_delay\u001b[49m\u001b[43m=\u001b[49m\u001b[43mretry_delay\u001b[49m\u001b[43m,\u001b[49m\n\u001b[32m    693\u001b[39m \u001b[43m\u001b[49m\u001b[43m)\u001b[49m\n",
      "\u001b[36mFile \u001b[39m\u001b[32m~/Documents/AI/GenerativeAI/.venv/lib/python3.13/site-packages/langchain_core/runnables/graph_mermaid.py:293\u001b[39m, in \u001b[36mdraw_mermaid_png\u001b[39m\u001b[34m(mermaid_syntax, output_file_path, draw_method, background_color, padding, max_retries, retry_delay)\u001b[39m\n\u001b[32m    287\u001b[39m     img_bytes = asyncio.run(\n\u001b[32m    288\u001b[39m         _render_mermaid_using_pyppeteer(\n\u001b[32m    289\u001b[39m             mermaid_syntax, output_file_path, background_color, padding\n\u001b[32m    290\u001b[39m         )\n\u001b[32m    291\u001b[39m     )\n\u001b[32m    292\u001b[39m \u001b[38;5;28;01melif\u001b[39;00m draw_method == MermaidDrawMethod.API:\n\u001b[32m--> \u001b[39m\u001b[32m293\u001b[39m     img_bytes = \u001b[43m_render_mermaid_using_api\u001b[49m\u001b[43m(\u001b[49m\n\u001b[32m    294\u001b[39m \u001b[43m        \u001b[49m\u001b[43mmermaid_syntax\u001b[49m\u001b[43m,\u001b[49m\n\u001b[32m    295\u001b[39m \u001b[43m        \u001b[49m\u001b[43moutput_file_path\u001b[49m\u001b[43m=\u001b[49m\u001b[43moutput_file_path\u001b[49m\u001b[43m,\u001b[49m\n\u001b[32m    296\u001b[39m \u001b[43m        \u001b[49m\u001b[43mbackground_color\u001b[49m\u001b[43m=\u001b[49m\u001b[43mbackground_color\u001b[49m\u001b[43m,\u001b[49m\n\u001b[32m    297\u001b[39m \u001b[43m        \u001b[49m\u001b[43mmax_retries\u001b[49m\u001b[43m=\u001b[49m\u001b[43mmax_retries\u001b[49m\u001b[43m,\u001b[49m\n\u001b[32m    298\u001b[39m \u001b[43m        \u001b[49m\u001b[43mretry_delay\u001b[49m\u001b[43m=\u001b[49m\u001b[43mretry_delay\u001b[49m\u001b[43m,\u001b[49m\n\u001b[32m    299\u001b[39m \u001b[43m    \u001b[49m\u001b[43m)\u001b[49m\n\u001b[32m    300\u001b[39m \u001b[38;5;28;01melse\u001b[39;00m:\n\u001b[32m    301\u001b[39m     supported_methods = \u001b[33m\"\u001b[39m\u001b[33m, \u001b[39m\u001b[33m\"\u001b[39m.join([m.value \u001b[38;5;28;01mfor\u001b[39;00m m \u001b[38;5;129;01min\u001b[39;00m MermaidDrawMethod])\n",
      "\u001b[36mFile \u001b[39m\u001b[32m~/Documents/AI/GenerativeAI/.venv/lib/python3.13/site-packages/langchain_core/runnables/graph_mermaid.py:462\u001b[39m, in \u001b[36m_render_mermaid_using_api\u001b[39m\u001b[34m(mermaid_syntax, output_file_path, background_color, file_type, max_retries, retry_delay)\u001b[39m\n\u001b[32m    457\u001b[39m         \u001b[38;5;28;01melse\u001b[39;00m:\n\u001b[32m    458\u001b[39m             msg = (\n\u001b[32m    459\u001b[39m                 \u001b[33m\"\u001b[39m\u001b[33mFailed to reach https://mermaid.ink/ API while trying to render \u001b[39m\u001b[33m\"\u001b[39m\n\u001b[32m    460\u001b[39m                 \u001b[33mf\u001b[39m\u001b[33m\"\u001b[39m\u001b[33myour graph after \u001b[39m\u001b[38;5;132;01m{\u001b[39;00mmax_retries\u001b[38;5;132;01m}\u001b[39;00m\u001b[33m retries. \u001b[39m\u001b[33m\"\u001b[39m\n\u001b[32m    461\u001b[39m             ) + error_msg_suffix\n\u001b[32m--> \u001b[39m\u001b[32m462\u001b[39m             \u001b[38;5;28;01mraise\u001b[39;00m \u001b[38;5;167;01mValueError\u001b[39;00m(msg) \u001b[38;5;28;01mfrom\u001b[39;00m\u001b[38;5;250m \u001b[39m\u001b[34;01me\u001b[39;00m\n\u001b[32m    464\u001b[39m \u001b[38;5;66;03m# This should not be reached, but just in case\u001b[39;00m\n\u001b[32m    465\u001b[39m msg = (\n\u001b[32m    466\u001b[39m     \u001b[33m\"\u001b[39m\u001b[33mFailed to reach https://mermaid.ink/ API while trying to render \u001b[39m\u001b[33m\"\u001b[39m\n\u001b[32m    467\u001b[39m     \u001b[33mf\u001b[39m\u001b[33m\"\u001b[39m\u001b[33myour graph after \u001b[39m\u001b[38;5;132;01m{\u001b[39;00mmax_retries\u001b[38;5;132;01m}\u001b[39;00m\u001b[33m retries. \u001b[39m\u001b[33m\"\u001b[39m\n\u001b[32m    468\u001b[39m ) + error_msg_suffix\n",
      "\u001b[31mValueError\u001b[39m: Failed to reach https://mermaid.ink/ API while trying to render your graph after 1 retries. To resolve this issue:\n1. Check your internet connection and try again\n2. Try with higher retry settings: `draw_mermaid_png(..., max_retries=5, retry_delay=2.0)`\n3. Use the Pyppeteer rendering method which will render your graph locally in a browser: `draw_mermaid_png(..., draw_method=MermaidDrawMethod.PYPPETEER)`"
     ]
    }
   ],
   "source": [
    "## start the graph\n",
    "workflow = StateGraph(State)\n",
    "\n",
    "########################## Agent 1 ##########################\n",
    "## add Agent node\n",
    "workflow.add_node(node=\"Agent1\", action=node_agent) \n",
    "workflow.set_entry_point(key=\"Agent1\") #<--user query\n",
    "\n",
    "## add Tools nodes\n",
    "workflow.add_node(node=\"tool_browser\", action=node_tool)\n",
    "workflow.add_node(node=\"final_answer\", action=node_tool)\n",
    "\n",
    "## normal_edges to Agent\n",
    "workflow.add_edge(start_key=\"tool_browser\", end_key=\"Agent1\")\n",
    "\n",
    "## conditional_edges from Agent\n",
    "workflow.add_conditional_edges(source=\"Agent1\", path=conditional_edges)\n",
    "\n",
    "########################## Human ##########################\n",
    "## add Human node\n",
    "workflow.add_node(node=\"Human\", action=human_node)\n",
    "\n",
    "## conditional_edges from Human\n",
    "workflow.add_conditional_edges(source=\"final_answer\", path=human_edges)\n",
    "\n",
    "########################## Agent 2 ##########################\n",
    "## add Agent node\n",
    "workflow.add_node(node=\"Agent2\", action=node_agent_2) \n",
    "\n",
    "## add Tools nodes\n",
    "workflow.add_node(node=\"tool_wikipedia\", action=node_tool)\n",
    "\n",
    "## normal_edges to Agent\n",
    "workflow.add_edge(start_key=\"tool_wikipedia\", end_key=\"Agent2\")\n",
    "\n",
    "## conditional_edges from Agent\n",
    "workflow.add_conditional_edges(source=\"Agent2\", path=conditional_edges)\n",
    "\n",
    "########################## End ##########################\n",
    "## end the graph\n",
    "g2 = workflow.compile()\n",
    "\n",
    "## plot\n",
    "display(Image(\n",
    "    g2.get_graph().draw_mermaid_png(draw_method=MermaidDrawMethod.API)\n",
    "))"
   ]
  },
  {
   "cell_type": "code",
   "execution_count": null,
   "id": "6fbad9a7-0d34-4029-a0c7-fd3fe6a0dc28",
   "metadata": {},
   "outputs": [],
   "source": [
    "initial_state"
   ]
  },
  {
   "cell_type": "code",
   "execution_count": 79,
   "id": "fc72cf35-a9ff-4f09-801f-3db39c00536e",
   "metadata": {},
   "outputs": [
    {
     "name": "stdout",
     "output_type": "stream",
     "text": [
      "--- node_agent ---\n",
      "tool_name='tool_browser' tool_input={'q': 'September 9 2024 deaths'} tool_output=None\n",
      "--- conditional_edges ---\n",
      "next_node: tool_browser\n",
      "--- node_tool ---\n",
      "tool_browser(input={'q': 'September 9 2024 deaths'})\n",
      "--- node_agent ---\n",
      "tool_name='final_answer' tool_input={'text': 'According to various news sources, including news obituaries, James Earl Jones passed away on September 9, 2024, at his home in Dutchess County, New York. He was an American Tony, Emmy, Grammy, and Golden Globe winning actor, best known for his roles as the voice of Darth Vader and Mufasa.'} tool_output=None\n",
      "--- conditional_edges ---\n",
      "next_node: final_answer\n",
      "--- node_tool ---\n",
      "final_answer(input={'text': 'According to various news sources, including news obituaries, James Earl Jones passed away on September 9, 2024, at his home in Dutchess County, New York. He was an American Tony, Emmy, Grammy, and Golden Globe winning actor, best known for his roles as the voice of Darth Vader and Mufasa.'})\n",
      "--- human ---\n"
     ]
    },
    {
     "name": "stdin",
     "output_type": "stream",
     "text": [
      "Should I continue? [Yes/No] -->  y\n"
     ]
    },
    {
     "name": "stdout",
     "output_type": "stream",
     "text": [
      "next_node: Agent2\n",
      "--- node_agent 2 ---\n",
      "tool_name='tool_wikipedia' tool_input={'q': 'James Earl Jones death date'} tool_output=None\n",
      "--- conditional_edges ---\n",
      "next_node: tool_wikipedia\n",
      "--- node_tool ---\n",
      "tool_wikipedia(input={'q': 'James Earl Jones death date'})\n",
      "--- node_agent 2 ---\n",
      "tool_name='tool_wikipedia' tool_input={'q': 'James Earl Jones death date'} tool_output=None\n",
      "--- conditional_edges ---\n",
      "next_node: tool_wikipedia\n",
      "--- node_tool ---\n",
      "tool_wikipedia(input={'q': 'James Earl Jones death date'})\n",
      "--- node_agent 2 ---\n",
      "tool_name='final_answer' tool_input={'text': \"According to various news sources, including news obituaries, James Earl Jones passed away on September 9, 2024, at his home in Dutchess County, New York. He was an American Tony, Emmy, Grammy, and Golden Globe winning actor, best known for his roles as the voice of Darth Vader and Mufasa. According to Wikipedia, James Earl Jones (January 17, 1931 – September 9, 2024) was a renowned American actor with a career spanning over six decades. He is one of the few performers to achieve EGOT status and won numerous awards for his work on stage and screen. Jones's iconic voice as Darth Vader in the Star Wars franchise and Mufasa in The Lion King are just a couple of his many notable roles. With an extensive career in film, television, and theater, James Earl Jones will be deeply missed by fans around the world.\"} tool_output=None\n",
      "--- conditional_edges ---\n",
      "next_node: final_answer\n",
      "--- node_tool ---\n",
      "final_answer(input={'text': \"According to various news sources, including news obituaries, James Earl Jones passed away on September 9, 2024, at his home in Dutchess County, New York. He was an American Tony, Emmy, Grammy, and Golden Globe winning actor, best known for his roles as the voice of Darth Vader and Mufasa. According to Wikipedia, James Earl Jones (January 17, 1931 – September 9, 2024) was a renowned American actor with a career spanning over six decades. He is one of the few performers to achieve EGOT status and won numerous awards for his work on stage and screen. Jones's iconic voice as Darth Vader in the Star Wars franchise and Mufasa in The Lion King are just a couple of his many notable roles. With an extensive career in film, television, and theater, James Earl Jones will be deeply missed by fans around the world.\"})\n",
      "--- human ---\n"
     ]
    },
    {
     "name": "stdin",
     "output_type": "stream",
     "text": [
      "Should I continue? [Yes/No] -->  no\n"
     ]
    },
    {
     "name": "stdout",
     "output_type": "stream",
     "text": [
      "next_node: __end__\n",
      "----\n"
     ]
    },
    {
     "data": {
      "text/plain": [
       "\"According to various news sources, including news obituaries, James Earl Jones passed away on September 9, 2024, at his home in Dutchess County, New York. He was an American Tony, Emmy, Grammy, and Golden Globe winning actor, best known for his roles as the voice of Darth Vader and Mufasa. According to Wikipedia, James Earl Jones (January 17, 1931 – September 9, 2024) was a renowned American actor with a career spanning over six decades. He is one of the few performers to achieve EGOT status and won numerous awards for his work on stage and screen. Jones's iconic voice as Darth Vader in the Star Wars franchise and Mufasa in The Lion King are just a couple of his many notable roles. With an extensive career in film, television, and theater, James Earl Jones will be deeply missed by fans around the world.\""
      ]
     },
     "execution_count": 79,
     "metadata": {},
     "output_type": "execute_result"
    }
   ],
   "source": [
    "out_2 = g2.invoke(input=initial_state)\n",
    "agent_out_2 = out_2['output'].tool_output\n",
    "\n",
    "print(\"----\")\n",
    "agent_out_2"
   ]
  }
 ],
 "metadata": {
  "kernelspec": {
   "display_name": "Python 3 (ipykernel)",
   "language": "python",
   "name": "python3"
  },
  "language_info": {
   "codemirror_mode": {
    "name": "ipython",
    "version": 3
   },
   "file_extension": ".py",
   "mimetype": "text/x-python",
   "name": "python",
   "nbconvert_exporter": "python",
   "pygments_lexer": "ipython3",
   "version": "3.13.3"
  }
 },
 "nbformat": 4,
 "nbformat_minor": 5
}
